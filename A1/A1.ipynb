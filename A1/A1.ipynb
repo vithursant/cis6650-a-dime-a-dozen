{
 "cells": [
  {
   "cell_type": "code",
   "execution_count": 1,
   "metadata": {},
   "outputs": [],
   "source": [
    "# change to the /srv/jupyter/$username directory where we have write permission\n",
    "import os;\n",
    "import pwd;\n",
    "# change to a directory where we have write permission\n",
    "#os.chdir(os.path.join(\"/srv/jupyter\", pwd.getpwuid(os.getuid()).pw_name));\n",
    "os.chdir(\"./\")"
   ]
  },
  {
   "cell_type": "markdown",
   "metadata": {},
   "source": [
    "# OCR Experiment"
   ]
  },
  {
   "cell_type": "markdown",
   "metadata": {},
   "source": [
    "In this notebook we will be implementing a simple OCR experiment using TensorFlow.\n",
    "\n",
    "## Let's start with some data:\n",
    "\n",
    "Consider the following file, <i>digits.txt</i> (if you run the cell below (a copy of the file will be created for you)."
   ]
  },
  {
   "cell_type": "code",
   "execution_count": 2,
   "metadata": {},
   "outputs": [
    {
     "name": "stdout",
     "output_type": "stream",
     "text": [
      "Overwriting digits.txt\n"
     ]
    }
   ],
   "source": [
    "%%file digits.txt\n",
    "00000   11111   22222   33333   44444   55555   66666   77777   88888   99999\n",
    " XXX      X      XXX     XXX       X    XXXXX    XXX    XXXXX    XXX     XXX \n",
    "X   X    XX         X       X     XX    X       X          X    X   X   X   X\n",
    "X   X     X        X     XXX     X X    XXXX    XXXX      X      XXX     XXXX\n",
    "X   X     X       X         X   XXXXX       X   X   X    X      X   X       X\n",
    " XXX     XXX    XXXXX    XXX       X    XXXX     XXX    X        XXX     XXX "
   ]
  },
  {
   "cell_type": "markdown",
   "metadata": {},
   "source": [
    "Now let's store these digit images in a python dictionary."
   ]
  },
  {
   "cell_type": "code",
   "execution_count": 3,
   "metadata": {},
   "outputs": [
    {
     "name": "stdout",
     "output_type": "stream",
     "text": [
      "{0: '', 1: '', 2: '', 3: '', 4: '', 5: '', 6: '', 7: '', 8: '', 9: ''}\n"
     ]
    }
   ],
   "source": [
    "fp = open( \"digits.txt\");\n",
    "lines = fp.readlines();\n",
    "fp.close();\n",
    "\n",
    "image = { i:'' for i in range(0,10) };\n",
    "print(image)\n",
    "for line in lines[1:]:  # start with the second line\n",
    "    for digit in range(0,10):\n",
    "        image[digit] += line[0:5]+'\\n';\n",
    "        line = line[8:];"
   ]
  },
  {
   "cell_type": "markdown",
   "metadata": {},
   "source": [
    "## Printing the images."
   ]
  },
  {
   "cell_type": "code",
   "execution_count": 4,
   "metadata": {
    "scrolled": true
   },
   "outputs": [
    {
     "name": "stdout",
     "output_type": "stream",
     "text": [
      " XXX \n",
      "X   X\n",
      "X   X\n",
      "X   X\n",
      " XXX \n",
      "\n",
      "  X  \n",
      " XX  \n",
      "  X  \n",
      "  X  \n",
      " XXX \n",
      "\n",
      " XXX \n",
      "    X\n",
      "   X \n",
      "  X  \n",
      "XXXXX\n",
      "\n",
      " XXX \n",
      "    X\n",
      " XXX \n",
      "    X\n",
      " XXX \n",
      "\n",
      "   X \n",
      "  XX \n",
      " X X \n",
      "XXXXX\n",
      "   X \n",
      "\n",
      "XXXXX\n",
      "X    \n",
      "XXXX \n",
      "    X\n",
      "XXXX \n",
      "\n",
      " XXX \n",
      "X    \n",
      "XXXX \n",
      "X   X\n",
      " XXX \n",
      "\n",
      "XXXXX\n",
      "   X \n",
      "  X  \n",
      " X   \n",
      "X    \n",
      "\n",
      " XXX \n",
      "X   X\n",
      " XXX \n",
      "X   X\n",
      " XXX \n",
      "\n",
      " XXX \n",
      "X   X\n",
      " XXXX\n",
      "    X\n",
      " XXX \n",
      "\n"
     ]
    }
   ],
   "source": [
    "for digit in range(0,10):\n",
    "    print (image[digit]);\n",
    "    print;"
   ]
  },
  {
   "cell_type": "markdown",
   "metadata": {},
   "source": [
    "## Input data\n",
    "In order to present these images to a network, we will need to encode them numerically.  We can do this by representing the dark (\"X\") pixels with ones and the light (\" \") pixels with zeros.  Here's a handy function for that."
   ]
  },
  {
   "cell_type": "code",
   "execution_count": 5,
   "metadata": {},
   "outputs": [],
   "source": [
    "def image2bits( image ):\n",
    "    \"convert image to bits by coding X as 1 and blank as 0; ignore newlines\"\n",
    "    return [ int(c=='X') for c in image if c!='\\n' ];"
   ]
  },
  {
   "cell_type": "markdown",
   "metadata": {},
   "source": [
    "Now we can use this to transfor any image to an <i>input vector</i>."
   ]
  },
  {
   "cell_type": "code",
   "execution_count": 6,
   "metadata": {},
   "outputs": [
    {
     "name": "stdout",
     "output_type": "stream",
     "text": [
      "[0, 1, 1, 1, 0, 1, 0, 0, 0, 1, 1, 0, 0, 0, 1, 1, 0, 0, 0, 1, 0, 1, 1, 1, 0]\n"
     ]
    }
   ],
   "source": [
    "print (image2bits( image[0] ));"
   ]
  },
  {
   "cell_type": "code",
   "execution_count": 7,
   "metadata": {},
   "outputs": [
    {
     "name": "stdout",
     "output_type": "stream",
     "text": [
      "[0, 0, 1, 0, 0, 0, 1, 1, 0, 0, 0, 0, 1, 0, 0, 0, 0, 1, 0, 0, 0, 1, 1, 1, 0]\n"
     ]
    }
   ],
   "source": [
    "print (image2bits( image[1] ));"
   ]
  },
  {
   "cell_type": "code",
   "execution_count": 8,
   "metadata": {},
   "outputs": [
    {
     "name": "stdout",
     "output_type": "stream",
     "text": [
      "[0, 1, 1, 1, 0, 1, 0, 0, 0, 1, 0, 1, 1, 1, 1, 0, 0, 0, 0, 1, 0, 1, 1, 1, 0]\n"
     ]
    }
   ],
   "source": [
    "print (image2bits( image[9] ));"
   ]
  },
  {
   "cell_type": "markdown",
   "metadata": {},
   "source": [
    "It will also be useful to reverse the operation so that we can take an <i>input vector</i> and visualize it as an image.  Here's the function for that."
   ]
  },
  {
   "cell_type": "code",
   "execution_count": 9,
   "metadata": {},
   "outputs": [],
   "source": [
    "def bits2image( bits ):\n",
    "    \"convert bits to an image by coding 0 as blank and 1 as X; add newlines\"\n",
    "    lines = [ bits[j:j+5] for j in range(0, len(bits), 5) ];\n",
    "    return \"\\n\".join([ \"\".join([ \" X\"[i] for i in line]) for line in lines ]);"
   ]
  },
  {
   "cell_type": "markdown",
   "metadata": {},
   "source": [
    "See, it works:"
   ]
  },
  {
   "cell_type": "code",
   "execution_count": 10,
   "metadata": {},
   "outputs": [
    {
     "name": "stdout",
     "output_type": "stream",
     "text": [
      " XXX \n",
      "X   X\n",
      "X   X\n",
      "X   X\n",
      " XXX \n"
     ]
    }
   ],
   "source": [
    "print (bits2image( image2bits( image[0] ) ));"
   ]
  },
  {
   "cell_type": "code",
   "execution_count": 11,
   "metadata": {},
   "outputs": [
    {
     "name": "stdout",
     "output_type": "stream",
     "text": [
      "  X  \n",
      " XX  \n",
      "  X  \n",
      "  X  \n",
      " XXX \n"
     ]
    }
   ],
   "source": [
    "print (bits2image( image2bits( image[1] ) ));"
   ]
  },
  {
   "cell_type": "markdown",
   "metadata": {},
   "source": [
    "## Output data\n",
    "We also need output data.  In this case there will be 10 different classes of outputs.  A simple and popular output encoding is call the one-hot encoding.  In this scheme the n=10 different classes of outputs are represented by 10 different vectors, each vector being all zeros, except along a single dimension (where it is one).  Here's the function that genarates one-hot vectors:"
   ]
  },
  {
   "cell_type": "code",
   "execution_count": 12,
   "metadata": {},
   "outputs": [],
   "source": [
    "def onehot(i,n):\n",
    "    \"return a list of n values with the ith value set to one\"\n",
    "    return [ int(i==j) for j in range(0,n)];"
   ]
  },
  {
   "cell_type": "markdown",
   "metadata": {},
   "source": [
    "The digit 0 is encoded as:"
   ]
  },
  {
   "cell_type": "code",
   "execution_count": 13,
   "metadata": {},
   "outputs": [
    {
     "name": "stdout",
     "output_type": "stream",
     "text": [
      "[1, 0, 0, 0, 0, 0, 0, 0, 0, 0]\n"
     ]
    }
   ],
   "source": [
    "print (onehot(0,10));"
   ]
  },
  {
   "cell_type": "markdown",
   "metadata": {},
   "source": [
    "While digit 1 is represented as:"
   ]
  },
  {
   "cell_type": "code",
   "execution_count": 14,
   "metadata": {},
   "outputs": [
    {
     "name": "stdout",
     "output_type": "stream",
     "text": [
      "[0, 1, 0, 0, 0, 0, 0, 0, 0, 0]\n"
     ]
    }
   ],
   "source": [
    "print (onehot(1,10));"
   ]
  },
  {
   "cell_type": "markdown",
   "metadata": {},
   "source": [
    "And the last digit (9) is encoded as:"
   ]
  },
  {
   "cell_type": "code",
   "execution_count": 15,
   "metadata": {},
   "outputs": [
    {
     "name": "stdout",
     "output_type": "stream",
     "text": [
      "[0, 0, 0, 0, 0, 0, 0, 0, 0, 1]\n"
     ]
    }
   ],
   "source": [
    "print (onehot(9,10));"
   ]
  },
  {
   "cell_type": "markdown",
   "metadata": {},
   "source": [
    "There are other ways of encoding the output.  For example, we could have used a 4-digit binary representation:\n",
    "<table>\n",
    "  <tr>\n",
    "    <td>0</td><td>0,0,0,0</td>\n",
    "  </tr>\n",
    "  <tr>\n",
    "    <td>1</td><td>0,0,0,1</td>\n",
    "  </tr>\n",
    "  <tr>\n",
    "    <td>2</td><td>0,0,1,0</td>\n",
    "  </tr>\n",
    "  <tr>\n",
    "    <td>3</td><td>0,0,1,1</td>\n",
    "  </tr>\n",
    "  <tr>\n",
    "    <td>4</td><td>0,1,0,0</td>\n",
    "  </tr>\n",
    "  <tr>\n",
    "    <td>5</td><td>0,1,0,1</td>\n",
    "  </tr>\n",
    "  <tr>\n",
    "    <td>6</td><td>0,1,1,0</td>\n",
    "  </tr>\n",
    "  <tr>\n",
    "    <td>7</td><td>0,1,1,1</td>\n",
    "  </tr>\n",
    "  <tr>\n",
    "    <td>8</td><td>1,0,0,0</td>\n",
    "  </tr>\n",
    "  <tr>\n",
    "    <td>9</td><td>1,0,0,1</td>\n",
    "  </tr>\n",
    "</table>\n",
    "But, note that in this representation the distances between output vectors is incosistent.  E.g. (0,1,1,0) and (1,0,0,1) are much further (by most norms) than (0,0,0,0) and (0,0,0,1).  This biases the system to treat some output patters as more similar than others."
   ]
  },
  {
   "cell_type": "markdown",
   "metadata": {},
   "source": [
    "## Input/Output pairs can be generated as follows:"
   ]
  },
  {
   "cell_type": "code",
   "execution_count": 16,
   "metadata": {},
   "outputs": [
    {
     "name": "stdout",
     "output_type": "stream",
     "text": [
      "[0, 1, 1, 1, 0, 1, 0, 0, 0, 1, 1, 0, 0, 0, 1, 1, 0, 0, 0, 1, 0, 1, 1, 1, 0] [1, 0, 0, 0, 0, 0, 0, 0, 0, 0]\n"
     ]
    }
   ],
   "source": [
    "print ( image2bits( image[0] ), onehot(0,10) );"
   ]
  },
  {
   "cell_type": "code",
   "execution_count": 17,
   "metadata": {},
   "outputs": [],
   "source": [
    "import numpy as np;\n",
    "DTYPE = 'float32'\n",
    "\n",
    "def perfect_data():\n",
    "    input_array = np.array([ image2bits( image[digit] ) for digit in range(0,10) ]);\n",
    "    output_array = np.array([ onehot(digit,10) for digit in range(0,10) ]);\n",
    "    return input_array.astype(DTYPE), output_array.astype(DTYPE);"
   ]
  },
  {
   "cell_type": "code",
   "execution_count": 18,
   "metadata": {},
   "outputs": [
    {
     "name": "stdout",
     "output_type": "stream",
     "text": [
      "(array([[ 0.,  1.,  1.,  1.,  0.,  1.,  0.,  0.,  0.,  1.,  1.,  0.,  0.,\n",
      "         0.,  1.,  1.,  0.,  0.,  0.,  1.,  0.,  1.,  1.,  1.,  0.],\n",
      "       [ 0.,  0.,  1.,  0.,  0.,  0.,  1.,  1.,  0.,  0.,  0.,  0.,  1.,\n",
      "         0.,  0.,  0.,  0.,  1.,  0.,  0.,  0.,  1.,  1.,  1.,  0.],\n",
      "       [ 0.,  1.,  1.,  1.,  0.,  0.,  0.,  0.,  0.,  1.,  0.,  0.,  0.,\n",
      "         1.,  0.,  0.,  0.,  1.,  0.,  0.,  1.,  1.,  1.,  1.,  1.],\n",
      "       [ 0.,  1.,  1.,  1.,  0.,  0.,  0.,  0.,  0.,  1.,  0.,  1.,  1.,\n",
      "         1.,  0.,  0.,  0.,  0.,  0.,  1.,  0.,  1.,  1.,  1.,  0.],\n",
      "       [ 0.,  0.,  0.,  1.,  0.,  0.,  0.,  1.,  1.,  0.,  0.,  1.,  0.,\n",
      "         1.,  0.,  1.,  1.,  1.,  1.,  1.,  0.,  0.,  0.,  1.,  0.],\n",
      "       [ 1.,  1.,  1.,  1.,  1.,  1.,  0.,  0.,  0.,  0.,  1.,  1.,  1.,\n",
      "         1.,  0.,  0.,  0.,  0.,  0.,  1.,  1.,  1.,  1.,  1.,  0.],\n",
      "       [ 0.,  1.,  1.,  1.,  0.,  1.,  0.,  0.,  0.,  0.,  1.,  1.,  1.,\n",
      "         1.,  0.,  1.,  0.,  0.,  0.,  1.,  0.,  1.,  1.,  1.,  0.],\n",
      "       [ 1.,  1.,  1.,  1.,  1.,  0.,  0.,  0.,  1.,  0.,  0.,  0.,  1.,\n",
      "         0.,  0.,  0.,  1.,  0.,  0.,  0.,  1.,  0.,  0.,  0.,  0.],\n",
      "       [ 0.,  1.,  1.,  1.,  0.,  1.,  0.,  0.,  0.,  1.,  0.,  1.,  1.,\n",
      "         1.,  0.,  1.,  0.,  0.,  0.,  1.,  0.,  1.,  1.,  1.,  0.],\n",
      "       [ 0.,  1.,  1.,  1.,  0.,  1.,  0.,  0.,  0.,  1.,  0.,  1.,  1.,\n",
      "         1.,  1.,  0.,  0.,  0.,  0.,  1.,  0.,  1.,  1.,  1.,  0.]], dtype=float32), array([[ 1.,  0.,  0.,  0.,  0.,  0.,  0.,  0.,  0.,  0.],\n",
      "       [ 0.,  1.,  0.,  0.,  0.,  0.,  0.,  0.,  0.,  0.],\n",
      "       [ 0.,  0.,  1.,  0.,  0.,  0.,  0.,  0.,  0.,  0.],\n",
      "       [ 0.,  0.,  0.,  1.,  0.,  0.,  0.,  0.,  0.,  0.],\n",
      "       [ 0.,  0.,  0.,  0.,  1.,  0.,  0.,  0.,  0.,  0.],\n",
      "       [ 0.,  0.,  0.,  0.,  0.,  1.,  0.,  0.,  0.,  0.],\n",
      "       [ 0.,  0.,  0.,  0.,  0.,  0.,  1.,  0.,  0.,  0.],\n",
      "       [ 0.,  0.,  0.,  0.,  0.,  0.,  0.,  1.,  0.,  0.],\n",
      "       [ 0.,  0.,  0.,  0.,  0.,  0.,  0.,  0.,  1.,  0.],\n",
      "       [ 0.,  0.,  0.,  0.,  0.,  0.,  0.,  0.,  0.,  1.]], dtype=float32))\n"
     ]
    }
   ],
   "source": [
    "print (perfect_data());"
   ]
  },
  {
   "cell_type": "markdown",
   "metadata": {},
   "source": [
    "## Adding Noise\n",
    "This is very much a toy problem, but let's make it a little bit interesting, but adding noise.\n",
    "\n",
    "We'll use a simple noise model that flips the pixels with a given probability.  Essentially we go though each dimension in the input vector and generate a random number between 0 and 1.  If it is below our noise probability we flip the pixel, otherwise we leave it alone.  Here's a function to apply this kind of noise to input vectors."
   ]
  },
  {
   "cell_type": "code",
   "execution_count": 19,
   "metadata": {},
   "outputs": [],
   "source": [
    "import random;\n",
    "\n",
    "def addnoise( input, noise ):\n",
    "    return [ i^(random.random()<noise) for i in input ];"
   ]
  },
  {
   "cell_type": "markdown",
   "metadata": {},
   "source": [
    "We can test what happens when the noise probability is 0.0 - zero chance of flipping any of the bits:  nothing happens."
   ]
  },
  {
   "cell_type": "code",
   "execution_count": 20,
   "metadata": {},
   "outputs": [
    {
     "name": "stdout",
     "output_type": "stream",
     "text": [
      " XXX \n",
      "X   X\n",
      "X   X\n",
      "X   X\n",
      " XXX \n"
     ]
    }
   ],
   "source": [
    "print (bits2image( addnoise( image2bits( image[0] ), 0.0 ) ));"
   ]
  },
  {
   "cell_type": "markdown",
   "metadata": {},
   "source": [
    "With a probability of 1.0, the output is not random, but rather a negative image (inverse)."
   ]
  },
  {
   "cell_type": "code",
   "execution_count": 21,
   "metadata": {},
   "outputs": [
    {
     "name": "stdout",
     "output_type": "stream",
     "text": [
      "X   X\n",
      " XXX \n",
      " XXX \n",
      " XXX \n",
      "X   X\n"
     ]
    }
   ],
   "source": [
    "print (bits2image( addnoise( image2bits( image[0] ), 1.00 ) ));"
   ]
  },
  {
   "cell_type": "markdown",
   "metadata": {},
   "source": [
    "With a 0.5 probability, the image becomes completely random because each bit has an equal probability of remainining what it was versus changing, so each bit has a 50/50 chance of being 1 or 0."
   ]
  },
  {
   "cell_type": "code",
   "execution_count": 22,
   "metadata": {},
   "outputs": [
    {
     "name": "stdout",
     "output_type": "stream",
     "text": [
      " XXX \n",
      " XXX \n",
      "XXXX \n",
      "   XX\n",
      "   X \n"
     ]
    }
   ],
   "source": [
    "print (bits2image( addnoise( image2bits( image[0] ), 0.50 ) ));"
   ]
  },
  {
   "cell_type": "markdown",
   "metadata": {},
   "source": [
    "Here's a loop that generates the image 0 with noise levels ranging from 0-100% at 5% intervals."
   ]
  },
  {
   "cell_type": "code",
   "execution_count": 23,
   "metadata": {},
   "outputs": [
    {
     "name": "stdout",
     "output_type": "stream",
     "text": [
      "Noise:   0%\n",
      "\n",
      " XXX \n",
      "X   X\n",
      "X   X\n",
      "X   X\n",
      " XXX \n",
      "\n",
      "\n",
      "\n",
      "\n",
      "Noise:   5%\n",
      "\n",
      " XXX \n",
      "X   X\n",
      "X   X\n",
      "X   X\n",
      " XXX \n",
      "\n",
      "\n",
      "\n",
      "\n",
      "Noise:  10%\n",
      "\n",
      " XXXX\n",
      "    X\n",
      "     \n",
      "XXX X\n",
      " X X \n",
      "\n",
      "\n",
      "\n",
      "\n",
      "Noise:  15%\n",
      "\n",
      " X XX\n",
      "XX  X\n",
      "XX  X\n",
      "    X\n",
      "  XX \n",
      "\n",
      "\n",
      "\n",
      "\n",
      "Noise:  20%\n",
      "\n",
      " XXX \n",
      "XXXXX\n",
      "    X\n",
      " X  X\n",
      " X XX\n",
      "\n",
      "\n",
      "\n",
      "\n",
      "Noise:  25%\n",
      "\n",
      "X XX \n",
      "X X X\n",
      "X   X\n",
      "XXX X\n",
      "  XX \n",
      "\n",
      "\n",
      "\n",
      "\n",
      "Noise:  30%\n",
      "\n",
      " X X \n",
      " X XX\n",
      "X    \n",
      "X   X\n",
      "XX XX\n",
      "\n",
      "\n",
      "\n",
      "\n",
      "Noise:  35%\n",
      "\n",
      "XXXX \n",
      "X X X\n",
      "X X  \n",
      "  XX \n",
      "  XX \n",
      "\n",
      "\n",
      "\n",
      "\n",
      "Noise:  40%\n",
      "\n",
      "   X \n",
      " X  X\n",
      "X    \n",
      "     \n",
      "  X X\n",
      "\n",
      "\n",
      "\n",
      "\n",
      "Noise:  45%\n",
      "\n",
      "XXXXX\n",
      "XX X \n",
      "X X X\n",
      "  X X\n",
      "  X  \n",
      "\n",
      "\n",
      "\n",
      "\n",
      "Noise:  50%\n",
      "\n",
      " X   \n",
      "XX X \n",
      "X  XX\n",
      "XX   \n",
      " X X \n",
      "\n",
      "\n",
      "\n",
      "\n",
      "Noise:  55%\n",
      "\n",
      "  X X\n",
      "X XXX\n",
      "X  XX\n",
      " XX X\n",
      "XXX X\n",
      "\n",
      "\n",
      "\n",
      "\n",
      "Noise:  60%\n",
      "\n",
      "     \n",
      " XX  \n",
      " XX  \n",
      "   XX\n",
      "  XXX\n",
      "\n",
      "\n",
      "\n",
      "\n",
      "Noise:  65%\n",
      "\n",
      "X   X\n",
      " X X \n",
      "X XX \n",
      "X XX \n",
      "X  XX\n",
      "\n",
      "\n",
      "\n",
      "\n",
      "Noise:  70%\n",
      "\n",
      "X   X\n",
      " XX  \n",
      " X XX\n",
      "  XXX\n",
      "  XXX\n",
      "\n",
      "\n",
      "\n",
      "\n",
      "Noise:  75%\n",
      "\n",
      "X   X\n",
      " XXX \n",
      " XXXX\n",
      " XXXX\n",
      "X X  \n",
      "\n",
      "\n",
      "\n",
      "\n",
      "Noise:  80%\n",
      "\n",
      "X   X\n",
      " XXX \n",
      "XXXX \n",
      "  XX \n",
      "X    \n",
      "\n",
      "\n",
      "\n",
      "\n",
      "Noise:  85%\n",
      "\n",
      "X   X\n",
      "   X \n",
      " XXX \n",
      " XXX \n",
      "X  XX\n",
      "\n",
      "\n",
      "\n",
      "\n",
      "Noise:  90%\n",
      "\n",
      "X   X\n",
      " XX  \n",
      " XX  \n",
      " XXX \n",
      "X  XX\n",
      "\n",
      "\n",
      "\n",
      "\n",
      "Noise:  95%\n",
      "\n",
      "    X\n",
      "XXXX \n",
      " X X \n",
      " XXX \n",
      "X X X\n",
      "\n",
      "\n",
      "\n",
      "\n",
      "Noise: 100%\n",
      "\n",
      "X   X\n",
      " XXX \n",
      " XXX \n",
      " XXX \n",
      "X   X\n",
      "\n",
      "\n",
      "\n",
      "\n"
     ]
    }
   ],
   "source": [
    "for noise in range( 0, 101, 5 ):\n",
    "    print (\"Noise: %3d%%\\n\" % noise);\n",
    "    print (bits2image( addnoise( image2bits( image[0] ), noise/100.0) ));\n",
    "    print (\"\\n\\n\\n\");"
   ]
  },
  {
   "cell_type": "markdown",
   "metadata": {},
   "source": [
    "<H1>Shall we play a game?</H1>"
   ]
  },
  {
   "cell_type": "code",
   "execution_count": 24,
   "metadata": {},
   "outputs": [
    {
     "data": {
      "image/jpeg": "[encoded data removed]",
      "text/html": [
       "\n",
       "        <iframe\n",
       "            width=\"400\"\n",
       "            height=\"300\"\n",
       "            src=\"https://www.youtube.com/embed/B53Vlje7mcM\"\n",
       "            frameborder=\"0\"\n",
       "            allowfullscreen\n",
       "        ></iframe>\n",
       "        "
      ],
      "text/plain": [
       "<IPython.lib.display.YouTubeVideo at 0x11188da58>"
      ]
     },
     "execution_count": 24,
     "metadata": {},
     "output_type": "execute_result"
    }
   ],
   "source": [
    "from IPython.display import YouTubeVideo\n",
    "YouTubeVideo('B53Vlje7mcM')"
   ]
  },
  {
   "cell_type": "markdown",
   "metadata": {},
   "source": [
    "Now we can use this to play an exciting game.  Watchout Rockstar Games, you may have GTA...but I've got \"GTN\"!\n",
    "\n",
    "(GTN=Guess That Number).\n",
    "\n",
    "Run this code below to pick a random number between 0 and 9, add noise to it and display the result."
   ]
  },
  {
   "cell_type": "code",
   "execution_count": 25,
   "metadata": {},
   "outputs": [
    {
     "name": "stdout",
     "output_type": "stream",
     "text": [
      "XX X \n",
      "     \n",
      "X XXX\n",
      "    X\n",
      " X X \n"
     ]
    }
   ],
   "source": [
    "difficulty = 15;\n",
    "correct_answer = random.randrange(0,10);\n",
    "print (bits2image( addnoise( image2bits( image[correct_answer] ), difficulty/100.0) ));"
   ]
  },
  {
   "cell_type": "code",
   "execution_count": 26,
   "metadata": {},
   "outputs": [
    {
     "name": "stdout",
     "output_type": "stream",
     "text": [
      " XXX \n",
      "X    \n",
      "XXXX \n",
      "X   X\n",
      " XXX \n",
      " \n",
      " XXX \n",
      "X   X\n",
      " XXXX\n",
      "    X\n",
      " XXX \n",
      " \n",
      " XXX \n",
      "    X\n",
      " XXX \n",
      "    X\n",
      " XXX \n",
      " \n",
      " XXX \n",
      "    X\n",
      " XXX \n",
      "    X\n",
      " XXX \n",
      " \n",
      "   X \n",
      "  XX \n",
      " X X \n",
      "XXXXX\n",
      "   X \n",
      " \n",
      " XXX \n",
      "X   X\n",
      " XXXX\n",
      "    X\n",
      " XXX \n",
      " \n",
      " XXX \n",
      "    X\n",
      "   X \n",
      "  X  \n",
      "XXXXX\n",
      " \n",
      " XXX \n",
      "X   X\n",
      " XXXX\n",
      "    X\n",
      " XXX \n",
      " \n",
      "XXXXX\n",
      "X    \n",
      "XXXX \n",
      "    X\n",
      "XXXX \n",
      " \n",
      "XXXXX\n",
      "X    \n",
      "XXXX \n",
      "    X\n",
      "XXXX \n",
      " \n",
      "XXXXX\n",
      "X    \n",
      "XXXX \n",
      "    X\n",
      "XXXX \n",
      " \n",
      " XXX \n",
      "    X\n",
      " XXX \n",
      "    X\n",
      " XXX \n",
      " \n",
      " XXX \n",
      "X    \n",
      "XXXX \n",
      "X   X\n",
      " XXX \n",
      " \n",
      " XXX \n",
      "X   X\n",
      " XXXX\n",
      "    X\n",
      " XXX \n",
      " \n",
      "  X  \n",
      " XX  \n",
      "  X  \n",
      "  X  \n",
      " XXX \n",
      " \n",
      " XXX \n",
      "    X\n",
      " XXX \n",
      "    X\n",
      " XXX \n",
      " \n",
      "   X \n",
      "  XX \n",
      " X X \n",
      "XXXXX\n",
      "   X \n",
      " \n",
      " XXX \n",
      "X   X\n",
      " XXX \n",
      "X   X\n",
      " XXX \n",
      " \n",
      " XXX \n",
      "X    \n",
      "XXXX \n",
      "X   X\n",
      " XXX \n",
      " \n",
      " XXX \n",
      "    X\n",
      "   X \n",
      "  X  \n",
      "XXXXX\n",
      " \n"
     ]
    }
   ],
   "source": [
    "selected_idx = []\n",
    "for i in range(0, 20):\n",
    "    difficulty = 0;\n",
    "    correct_answer = random.randrange(0,10);\n",
    "    selected_idx.append(correct_answer)\n",
    "    print (bits2image( addnoise( image2bits( image[correct_answer] ), difficulty/100.0) ));\n",
    "    print (\" \")"
   ]
  },
  {
   "cell_type": "code",
   "execution_count": 27,
   "metadata": {},
   "outputs": [
    {
     "name": "stdout",
     "output_type": "stream",
     "text": [
      "[6, 9, 3, 3, 4, 9, 2, 9, 5, 5, 5, 3, 6, 9, 1, 3, 4, 8, 6, 2]\n"
     ]
    }
   ],
   "source": [
    "print(selected_idx)  "
   ]
  },
  {
   "cell_type": "markdown",
   "metadata": {},
   "source": [
    "## Take a guess:\n",
    "Enter your guess as to what the character above represents on the line below."
   ]
  },
  {
   "cell_type": "code",
   "execution_count": 28,
   "metadata": {},
   "outputs": [],
   "source": [
    "your_guess = 5;"
   ]
  },
  {
   "cell_type": "markdown",
   "metadata": {},
   "source": [
    "Did you guess correctly?  Run the code below to discover the outcome..."
   ]
  },
  {
   "cell_type": "code",
   "execution_count": 29,
   "metadata": {},
   "outputs": [
    {
     "name": "stdout",
     "output_type": "stream",
     "text": [
      "Global Thermonuclear War Initiated\n",
      "The correct answer was: 2\n"
     ]
    }
   ],
   "source": [
    "if your_guess == correct_answer:\n",
    "    print (\"OK\");\n",
    "else:\n",
    "    print (\"Global Thermonuclear War Initiated\");\n",
    "    print (\"The correct answer was: %d\" % correct_answer);"
   ]
  },
  {
   "cell_type": "markdown",
   "metadata": {},
   "source": [
    "You can replay this game a few times by rerunning the last 3 code cells.\n",
    "\n",
    "For best results, I recommending loading a browser window on your XBox360 or PS4 to play GTN at optimum frame-rates."
   ]
  },
  {
   "cell_type": "markdown",
   "metadata": {},
   "source": [
    "## Machine Learning Time:  Enter the Tensor!"
   ]
  },
  {
   "cell_type": "markdown",
   "metadata": {},
   "source": [
    "Activate Tensor Power!"
   ]
  },
  {
   "cell_type": "code",
   "execution_count": 30,
   "metadata": {},
   "outputs": [],
   "source": [
    "import tensorflow as tf\n",
    "import numpy as np"
   ]
  },
  {
   "cell_type": "markdown",
   "metadata": {},
   "source": [
    "We will create a network with one hidden layer (plus and input layer and an output layer).\n",
    "\n",
    "There will be a weight matrix connecting the input layer to the hidden layer, and a weight matrix connection the hidden layer to the output layer.  In addition, each hidden and output node will have a bias or offset value.\n",
    "\n",
    "We will initialize all of the trainable parameters to random values chosen from a uniform distribution with low and high values specified by a heuristic from a 2010 paper by Glorot and Bengio.\n",
    "\n",
    "We will then define some calculations:  h_in, h_out, o_in, y_pred to calculate how the activation values are computed through successive layers.  Then we define cost, accuracy, and train_op, which are procedures to compute the cost (error) or the network, its accuracy, and its weight updates.\n",
    "\n",
    "Finally, the function returns input_x so that users have access to the network's input layer, label_y so that user's can specify the desired output, accuracy to computer accruacy, cost to compute cost, train_op to train one epoch of data, and y_pred to look at the network output.\n",
    "\n",
    "Note that the entire function below, doesn't calculate anything, not evern when you run it!  It merely defines <i><b>how</b></i> to calculate it.  Think of it as compiling the code to do the math.  The math isn't yet being performed, the code is just being defined and compiled."
   ]
  },
  {
   "cell_type": "code",
   "execution_count": 31,
   "metadata": {},
   "outputs": [],
   "source": [
    "from numpy.random import uniform\n",
    "DTYPE = 'float32'\n",
    "EPS = np.finfo(np.double).eps\n",
    "\n",
    "def construct_model(n_inputs, n_hidden, n_outputs, lr):\n",
    "    \"\"\"Declare Parameters\n",
    "    \"\"\"\n",
    "    # initialization from Glorot and Bengio 2010.\n",
    "    W_hid = tf.Variable( uniform( low=-4 * np.sqrt(6.0 / (n_inputs + n_hidden)), \\\n",
    "                                  high=4 * np.sqrt(6.0 / (n_inputs + n_hidden)),\\\n",
    "                                  size=(n_inputs,n_hidden) \\\n",
    "                                ).astype('float32'), \\\n",
    "                         name='W_h' )\n",
    "    \n",
    "    b_hid = tf.Variable( np.zeros( [n_hidden], dtype=DTYPE ), \\\n",
    "                         name='b_h' )\n",
    "\n",
    "    W_out = tf.Variable( uniform( low=-4 * np.sqrt(6.0 / (n_hidden + n_outputs)),\\\n",
    "                                  high=4 * np.sqrt(6.0 / (n_hidden + n_outputs)),\\\n",
    "                                  size=(n_hidden, n_outputs) \\\n",
    "                                ).astype('float32'), \\\n",
    "                         name='W_o' )\n",
    "    \n",
    "    b_out =  tf.Variable( tf.zeros([n_outputs]), \n",
    "                          name='b_o' )\n",
    "    \n",
    "    input_x = tf.placeholder( \"float\", [None, n_inputs] ) # create symbolic variables\n",
    "    \n",
    "    #The label.\n",
    "    label_y = tf.placeholder( \"float\", [None, n_outputs] )\n",
    "    \n",
    "    h_in = tf.nn.bias_add(tf.matmul(input_x,W_hid),b_hid) # define net input calculation to hidden units\n",
    "    h_out = tf.sigmoid(h_in)  # define squashing function (non-linearity) to hidden units\n",
    "    \n",
    "    o_in = tf.nn.bias_add(tf.matmul(h_out, W_out), b_out) # define net input calculation to output units\n",
    "    y_pred = tf.sigmoid(o_in) # define squashing function (non-linearity) to output units\n",
    "    \n",
    "    cost = -tf.reduce_mean( label_y * tf.log(y_pred + EPS) + \\\n",
    "                            (1 - label_y) * tf.log(1 - y_pred + EPS) )\n",
    "        # add EPS to prevent taking logarithm of zeron when y_pred = 0 or 1\n",
    "        # if label_y and y_pred are both 0, then both top half and bottom half of the equation equal almost zero\n",
    "        # if label_y and y_pred are both 1, then both top half and bottom half of the equation equal almost zero\n",
    "        # if label_y and y_pred differ are 0 and 1 (respectively), then top half of the equation is zero and bottom -16\n",
    "        # if label_y and y_pred differ are 1 and 0 (respectively), then top half of the equation is -16 and bottom zero\n",
    "\n",
    "    train_op = tf.train.GradientDescentOptimizer(lr).minimize(cost)\n",
    "\n",
    "    # generate code to compute accuracy\n",
    "    # if element > 0.5 replace with 1.\n",
    "    bool_vec = tf.greater(y_pred, 0.5)\n",
    "    correct_prediction = tf.equal(label_y, tf.cast(bool_vec, tf.float32))\n",
    "    # convert all boolean to float, to calculate percentage\n",
    "    accuracy = tf.reduce_mean(tf.cast(correct_prediction, \"float\"))\n",
    "    \n",
    "    return input_x, label_y, accuracy, cost, train_op, y_pred;\n"
   ]
  },
  {
   "cell_type": "markdown",
   "metadata": {},
   "source": [
    "We can use the function as follows to access the inputs, target outputs and functions within the model."
   ]
  },
  {
   "cell_type": "code",
   "execution_count": 32,
   "metadata": {},
   "outputs": [],
   "source": [
    "input_x, label_y, accuracy, cost, train_op, y_pred = construct_model( 25, 30, 10, 0.1 )"
   ]
  },
  {
   "cell_type": "markdown",
   "metadata": {},
   "source": [
    "At this point we have only created and defined our network.  We haven't run anything.\n",
    "\n",
    "Next, lets generate our training data."
   ]
  },
  {
   "cell_type": "code",
   "execution_count": 33,
   "metadata": {},
   "outputs": [],
   "source": [
    "input_data, target_data = perfect_data();  # get some data to use"
   ]
  },
  {
   "cell_type": "markdown",
   "metadata": {},
   "source": [
    "Below, we create a train_network function which repatedly runs train_op to train the network for a specified number of epochs.\n"
   ]
  },
  {
   "cell_type": "code",
   "execution_count": 34,
   "metadata": {},
   "outputs": [],
   "source": [
    "import matplotlib.pyplot as plt\n",
    "\n",
    "def train_network(epochs):\n",
    "    sess = tf.Session()   # execute the tensor flow session\n",
    "    \n",
    "    \n",
    "    \n",
    "    sess.run(tf.global_variables_initializer())   # initialize all the global variables\n",
    "\n",
    "    train_costs = np.zeros(epochs, dtype='float32');\n",
    "    train_accuracies = np.zeros(epochs, dtype='float32');\n",
    "    \n",
    "    ### TRAINING BEGIN ###\n",
    "    print (\"Epoch  Cost   Accuracy\")\n",
    "    for i in range(epochs):\n",
    "        train_cost, train_accuracy, _ = sess.run([cost, accuracy, train_op], feed_dict={input_x: input_data, label_y: target_data})\n",
    "        train_costs[i] = train_cost\n",
    "        train_accuracies[i] = train_accuracy\n",
    "        if i % 200 == 0:\n",
    "            print (\"%05d  %5.3f  %5.3f\" % (i,train_cost,train_accuracy));\n",
    "    print (\"%05d  %5.3f  %5.3f\" % (i,train_cost,train_accuracy));        \n",
    "    ### TRAINING END ###\n",
    "    \n",
    "    return train_costs, train_accuracies, y_pred, sess;"
   ]
  },
  {
   "cell_type": "markdown",
   "metadata": {},
   "source": [
    "Then we run it for 5000 epochs (finally!)."
   ]
  },
  {
   "cell_type": "code",
   "execution_count": 35,
   "metadata": {},
   "outputs": [
    {
     "name": "stdout",
     "output_type": "stream",
     "text": [
      "Epoch  Cost   Accuracy\n",
      "00000  1.790  0.360\n",
      "00200  0.321  0.890\n",
      "00400  0.239  0.900\n",
      "00600  0.195  0.910\n",
      "00800  0.166  0.920\n",
      "01000  0.145  0.960\n",
      "01200  0.129  0.960\n",
      "01400  0.116  0.960\n",
      "01600  0.105  0.960\n",
      "01800  0.097  0.970\n",
      "02000  0.089  0.980\n",
      "02200  0.082  0.990\n",
      "02400  0.076  0.990\n",
      "02600  0.071  0.990\n",
      "02800  0.066  0.990\n",
      "03000  0.062  0.990\n",
      "03200  0.058  0.990\n",
      "03400  0.055  0.990\n",
      "03600  0.052  1.000\n",
      "03800  0.049  1.000\n",
      "04000  0.046  1.000\n",
      "04200  0.044  1.000\n",
      "04400  0.042  1.000\n",
      "04600  0.040  1.000\n",
      "04800  0.038  1.000\n",
      "04999  0.036  1.000\n"
     ]
    }
   ],
   "source": [
    "train_costs, train_accuracies, y_pred, sess = train_network(5000)\n"
   ]
  },
  {
   "cell_type": "markdown",
   "metadata": {},
   "source": [
    "Let's plot it!"
   ]
  },
  {
   "cell_type": "code",
   "execution_count": 36,
   "metadata": {},
   "outputs": [
    {
     "data": {
      "image/png": "[encoded data removed]",
      "text/plain": [
       "<matplotlib.figure.Figure at 0x124a12d30>"
      ]
     },
     "metadata": {},
     "output_type": "display_data"
    }
   ],
   "source": [
    "plt.plot(train_costs, '-b', label=\"Training Cost\")\n",
    "plt.plot(train_accuracies, '-r', label=\"Training Accuracy\")\n",
    "plt.legend(loc='upper right')\n",
    "plt.xlabel(\"Epoch\")\n",
    "plt.ylabel(\"Cross entropy cost\")\n",
    "plt.show()\n",
    " "
   ]
  },
  {
   "cell_type": "markdown",
   "metadata": {},
   "source": [
    "Error went down, but what is it really outputting for each input pattern?"
   ]
  },
  {
   "cell_type": "code",
   "execution_count": 37,
   "metadata": {},
   "outputs": [
    {
     "name": "stdout",
     "output_type": "stream",
     "text": [
      " XXX \n",
      "X   X\n",
      "X   X\n",
      "X   X\n",
      " XXX \n",
      "\n",
      "['0.9', '0.0', '0.0', '0.0', '0.0', '0.0', '0.0', '0.0', '0.0', '0.0']\n",
      "Prediction: 0\n",
      "--------------------------------------------------------------------------------\n",
      "  X  \n",
      " XX  \n",
      "  X  \n",
      "  X  \n",
      " XXX \n",
      "\n",
      "['0.0', '0.9', '0.0', '0.0', '0.0', '0.0', '0.0', '0.0', '0.0', '0.0']\n",
      "Prediction: 1\n",
      "--------------------------------------------------------------------------------\n",
      " XXX \n",
      "    X\n",
      "   X \n",
      "  X  \n",
      "XXXXX\n",
      "\n",
      "['0.0', '0.0', '0.9', '0.1', '0.0', '0.0', '0.0', '0.0', '0.0', '0.0']\n",
      "Prediction: 2\n",
      "--------------------------------------------------------------------------------\n",
      " XXX \n",
      "    X\n",
      " XXX \n",
      "    X\n",
      " XXX \n",
      "\n",
      "['0.0', '0.0', '0.0', '0.6', '0.0', '0.0', '0.0', '0.0', '0.1', '0.1']\n",
      "Prediction: 3\n",
      "--------------------------------------------------------------------------------\n",
      "   X \n",
      "  XX \n",
      " X X \n",
      "XXXXX\n",
      "   X \n",
      "\n",
      "['0.0', '0.0', '0.0', '0.0', '0.9', '0.0', '0.0', '0.0', '0.0', '0.0']\n",
      "Prediction: 4\n",
      "--------------------------------------------------------------------------------\n",
      "XXXXX\n",
      "X    \n",
      "XXXX \n",
      "    X\n",
      "XXXX \n",
      "\n",
      "['0.0', '0.0', '0.0', '0.0', '0.0', '0.9', '0.1', '0.0', '0.0', '0.0']\n",
      "Prediction: 5\n",
      "--------------------------------------------------------------------------------\n",
      " XXX \n",
      "X    \n",
      "XXXX \n",
      "X   X\n",
      " XXX \n",
      "\n",
      "['0.0', '0.0', '0.0', '0.0', '0.0', '0.0', '0.8', '0.0', '0.0', '0.0']\n",
      "Prediction: 6\n",
      "--------------------------------------------------------------------------------\n",
      "XXXXX\n",
      "   X \n",
      "  X  \n",
      " X   \n",
      "X    \n",
      "\n",
      "['0.0', '0.0', '0.0', '0.0', '0.0', '0.0', '0.0', '0.9', '0.0', '0.0']\n",
      "Prediction: 7\n",
      "--------------------------------------------------------------------------------\n",
      " XXX \n",
      "X   X\n",
      " XXX \n",
      "X   X\n",
      " XXX \n",
      "\n",
      "['0.0', '0.0', '0.0', '0.1', '0.0', '0.0', '0.1', '0.0', '0.7', '0.1']\n",
      "Prediction: 8\n",
      "--------------------------------------------------------------------------------\n",
      " XXX \n",
      "X   X\n",
      " XXXX\n",
      "    X\n",
      " XXX \n",
      "\n",
      "['0.0', '0.0', '0.0', '0.1', '0.0', '0.0', '0.0', '0.0', '0.1', '0.8']\n",
      "Prediction: 9\n",
      "--------------------------------------------------------------------------------\n"
     ]
    }
   ],
   "source": [
    "outputs = sess.run( y_pred, feed_dict={input_x: input_data, label_y: target_data});\n",
    "for digit in range(0,10):\n",
    "    print (image[digit]);\n",
    "    print ([ \"%3.1f\" % o for o in outputs[digit] ]);\n",
    "    o = outputs[digit].tolist();\n",
    "    print (\"Prediction: %d\" % (o.index(max(o))))\n",
    "    print;\n",
    "    print (80*\"-\");"
   ]
  },
  {
   "cell_type": "code",
   "execution_count": 38,
   "metadata": {},
   "outputs": [],
   "source": [
    "selected_idx = [2, 3, 7, 2, 7, 9, 9, 5, 4, 0, 5, 2, 9, 1, 8, 4, 9, 9, 2, 7]"
   ]
  },
  {
   "cell_type": "code",
   "execution_count": 39,
   "metadata": {},
   "outputs": [
    {
     "name": "stdout",
     "output_type": "stream",
     "text": [
      " XXX \n",
      "    X\n",
      "   X \n",
      "  X  \n",
      "XXXXX\n",
      "\n",
      "['0.0', '0.0', '0.9', '0.1', '0.0', '0.0', '0.0', '0.0', '0.0', '0.0']\n",
      "Prediction: 2\n",
      "--------------------------------------------------------------------------------\n",
      " XXX \n",
      "    X\n",
      " XXX \n",
      "    X\n",
      " XXX \n",
      "\n",
      "['0.0', '0.0', '0.0', '0.6', '0.0', '0.0', '0.0', '0.0', '0.1', '0.1']\n",
      "Prediction: 3\n",
      "--------------------------------------------------------------------------------\n",
      "XXXXX\n",
      "   X \n",
      "  X  \n",
      " X   \n",
      "X    \n",
      "\n",
      "['0.0', '0.0', '0.0', '0.0', '0.0', '0.0', '0.0', '0.9', '0.0', '0.0']\n",
      "Prediction: 7\n",
      "--------------------------------------------------------------------------------\n",
      " XXX \n",
      "    X\n",
      "   X \n",
      "  X  \n",
      "XXXXX\n",
      "\n",
      "['0.0', '0.0', '0.9', '0.1', '0.0', '0.0', '0.0', '0.0', '0.0', '0.0']\n",
      "Prediction: 2\n",
      "--------------------------------------------------------------------------------\n",
      "XXXXX\n",
      "   X \n",
      "  X  \n",
      " X   \n",
      "X    \n",
      "\n",
      "['0.0', '0.0', '0.0', '0.0', '0.0', '0.0', '0.0', '0.9', '0.0', '0.0']\n",
      "Prediction: 7\n",
      "--------------------------------------------------------------------------------\n",
      " XXX \n",
      "X   X\n",
      " XXXX\n",
      "    X\n",
      " XXX \n",
      "\n",
      "['0.0', '0.0', '0.0', '0.1', '0.0', '0.0', '0.0', '0.0', '0.1', '0.8']\n",
      "Prediction: 9\n",
      "--------------------------------------------------------------------------------\n",
      " XXX \n",
      "X   X\n",
      " XXXX\n",
      "    X\n",
      " XXX \n",
      "\n",
      "['0.0', '0.0', '0.0', '0.1', '0.0', '0.0', '0.0', '0.0', '0.1', '0.8']\n",
      "Prediction: 9\n",
      "--------------------------------------------------------------------------------\n",
      "XXXXX\n",
      "X    \n",
      "XXXX \n",
      "    X\n",
      "XXXX \n",
      "\n",
      "['0.0', '0.0', '0.0', '0.0', '0.0', '0.9', '0.1', '0.0', '0.0', '0.0']\n",
      "Prediction: 5\n",
      "--------------------------------------------------------------------------------\n",
      "   X \n",
      "  XX \n",
      " X X \n",
      "XXXXX\n",
      "   X \n",
      "\n",
      "['0.0', '0.0', '0.0', '0.0', '0.9', '0.0', '0.0', '0.0', '0.0', '0.0']\n",
      "Prediction: 4\n",
      "--------------------------------------------------------------------------------\n",
      " XXX \n",
      "X   X\n",
      "X   X\n",
      "X   X\n",
      " XXX \n",
      "\n",
      "['0.9', '0.0', '0.0', '0.0', '0.0', '0.0', '0.0', '0.0', '0.0', '0.0']\n",
      "Prediction: 0\n",
      "--------------------------------------------------------------------------------\n",
      "XXXXX\n",
      "X    \n",
      "XXXX \n",
      "    X\n",
      "XXXX \n",
      "\n",
      "['0.0', '0.0', '0.0', '0.0', '0.0', '0.9', '0.1', '0.0', '0.0', '0.0']\n",
      "Prediction: 5\n",
      "--------------------------------------------------------------------------------\n",
      " XXX \n",
      "    X\n",
      "   X \n",
      "  X  \n",
      "XXXXX\n",
      "\n",
      "['0.0', '0.0', '0.9', '0.1', '0.0', '0.0', '0.0', '0.0', '0.0', '0.0']\n",
      "Prediction: 2\n",
      "--------------------------------------------------------------------------------\n",
      " XXX \n",
      "X   X\n",
      " XXXX\n",
      "    X\n",
      " XXX \n",
      "\n",
      "['0.0', '0.0', '0.0', '0.1', '0.0', '0.0', '0.0', '0.0', '0.1', '0.8']\n",
      "Prediction: 9\n",
      "--------------------------------------------------------------------------------\n",
      "  X  \n",
      " XX  \n",
      "  X  \n",
      "  X  \n",
      " XXX \n",
      "\n",
      "['0.0', '0.9', '0.0', '0.0', '0.0', '0.0', '0.0', '0.0', '0.0', '0.0']\n",
      "Prediction: 1\n",
      "--------------------------------------------------------------------------------\n",
      " XXX \n",
      "X   X\n",
      " XXX \n",
      "X   X\n",
      " XXX \n",
      "\n",
      "['0.0', '0.0', '0.0', '0.1', '0.0', '0.0', '0.1', '0.0', '0.7', '0.1']\n",
      "Prediction: 8\n",
      "--------------------------------------------------------------------------------\n",
      "   X \n",
      "  XX \n",
      " X X \n",
      "XXXXX\n",
      "   X \n",
      "\n",
      "['0.0', '0.0', '0.0', '0.0', '0.9', '0.0', '0.0', '0.0', '0.0', '0.0']\n",
      "Prediction: 4\n",
      "--------------------------------------------------------------------------------\n",
      " XXX \n",
      "X   X\n",
      " XXXX\n",
      "    X\n",
      " XXX \n",
      "\n",
      "['0.0', '0.0', '0.0', '0.1', '0.0', '0.0', '0.0', '0.0', '0.1', '0.8']\n",
      "Prediction: 9\n",
      "--------------------------------------------------------------------------------\n",
      " XXX \n",
      "X   X\n",
      " XXXX\n",
      "    X\n",
      " XXX \n",
      "\n",
      "['0.0', '0.0', '0.0', '0.1', '0.0', '0.0', '0.0', '0.0', '0.1', '0.8']\n",
      "Prediction: 9\n",
      "--------------------------------------------------------------------------------\n",
      " XXX \n",
      "    X\n",
      "   X \n",
      "  X  \n",
      "XXXXX\n",
      "\n",
      "['0.0', '0.0', '0.9', '0.1', '0.0', '0.0', '0.0', '0.0', '0.0', '0.0']\n",
      "Prediction: 2\n",
      "--------------------------------------------------------------------------------\n",
      "XXXXX\n",
      "   X \n",
      "  X  \n",
      " X   \n",
      "X    \n",
      "\n",
      "['0.0', '0.0', '0.0', '0.0', '0.0', '0.0', '0.0', '0.9', '0.0', '0.0']\n",
      "Prediction: 7\n",
      "--------------------------------------------------------------------------------\n",
      "Accuracy: 100.0000\n"
     ]
    }
   ],
   "source": [
    "outputs = sess.run( y_pred, feed_dict={input_x: input_data, label_y: target_data});\n",
    "#print(test_target_data[1])\n",
    "predicted_correct = 1\n",
    "for digit in selected_idx:\n",
    "    print (image[digit]);\n",
    "    print ([ \"%3.1f\" % o for o in outputs[digit] ]);\n",
    "    o = outputs[digit].tolist();\n",
    "    print (\"Prediction: %d\" % (o.index(max(o))))\n",
    "    print;\n",
    "    print (80*\"-\");\n",
    "    if o.index(max(o)) == np.where(target_data[digit]==1)[0]:\n",
    "        predicted_correct += 1\n",
    "\n",
    "accuracy = predicted_correct/(len(selected_idx)+1)*100\n",
    "print(\"Accuracy: %.4f\" % accuracy)"
   ]
  },
  {
   "cell_type": "markdown",
   "metadata": {},
   "source": [
    "Nice! The highest output is always for the corret input pattern.\n",
    "\n",
    "But, how will it do on noisy data?"
   ]
  },
  {
   "cell_type": "code",
   "execution_count": 84,
   "metadata": {},
   "outputs": [
    {
     "ename": "TypeError",
     "evalue": "'int' object is not iterable",
     "output_type": "error",
     "traceback": [
      "\u001b[0;31m---------------------------------------------------------------------------\u001b[0m",
      "\u001b[0;31mTypeError\u001b[0m                                 Traceback (most recent call last)",
      "\u001b[0;32m<ipython-input-84-1acd79627b41>\u001b[0m in \u001b[0;36m<module>\u001b[0;34m()\u001b[0m\n\u001b[0;32m----> 1\u001b[0;31m \u001b[0minput_data\u001b[0m \u001b[0;34m=\u001b[0m \u001b[0mnp\u001b[0m\u001b[0;34m.\u001b[0m\u001b[0marray\u001b[0m\u001b[0;34m(\u001b[0m \u001b[0;34m[\u001b[0m \u001b[0maddnoise\u001b[0m\u001b[0;34m(\u001b[0m \u001b[0mimage2bits\u001b[0m\u001b[0;34m(\u001b[0m \u001b[0mimage\u001b[0m\u001b[0;34m[\u001b[0m\u001b[0mdigit\u001b[0m\u001b[0;34m]\u001b[0m \u001b[0;34m)\u001b[0m\u001b[0;34m,\u001b[0m \u001b[0;36m0.10\u001b[0m \u001b[0;34m)\u001b[0m \u001b[0;32mfor\u001b[0m \u001b[0mdigit\u001b[0m \u001b[0;32min\u001b[0m \u001b[0mrange\u001b[0m\u001b[0;34m(\u001b[0m\u001b[0;36m0\u001b[0m\u001b[0;34m,\u001b[0m\u001b[0;36m10\u001b[0m\u001b[0;34m)\u001b[0m \u001b[0;34m]\u001b[0m \u001b[0;34m)\u001b[0m\u001b[0;34m;\u001b[0m\u001b[0;34m\u001b[0m\u001b[0m\n\u001b[0m\u001b[1;32m      2\u001b[0m \u001b[0moutput_data\u001b[0m \u001b[0;34m=\u001b[0m \u001b[0mnp\u001b[0m\u001b[0;34m.\u001b[0m\u001b[0marray\u001b[0m\u001b[0;34m(\u001b[0m \u001b[0;34m[\u001b[0m \u001b[0monehot\u001b[0m\u001b[0;34m(\u001b[0m\u001b[0mdigit\u001b[0m\u001b[0;34m,\u001b[0m\u001b[0;36m10\u001b[0m\u001b[0;34m)\u001b[0m \u001b[0;32mfor\u001b[0m \u001b[0mdigit\u001b[0m \u001b[0;32min\u001b[0m \u001b[0mrange\u001b[0m\u001b[0;34m(\u001b[0m\u001b[0;36m0\u001b[0m\u001b[0;34m,\u001b[0m\u001b[0;36m10\u001b[0m\u001b[0;34m)\u001b[0m\u001b[0;34m]\u001b[0m \u001b[0;34m)\u001b[0m\u001b[0;34m;\u001b[0m\u001b[0;34m\u001b[0m\u001b[0m\n\u001b[1;32m      3\u001b[0m \u001b[0mprint\u001b[0m\u001b[0;34m(\u001b[0m\u001b[0moutput_data\u001b[0m\u001b[0;34m)\u001b[0m\u001b[0;34m\u001b[0m\u001b[0m\n\u001b[1;32m      4\u001b[0m \u001b[0moutputs\u001b[0m \u001b[0;34m=\u001b[0m \u001b[0msess\u001b[0m\u001b[0;34m.\u001b[0m\u001b[0mrun\u001b[0m\u001b[0;34m(\u001b[0m \u001b[0my_pred\u001b[0m\u001b[0;34m,\u001b[0m \u001b[0mfeed_dict\u001b[0m\u001b[0;34m=\u001b[0m\u001b[0;34m{\u001b[0m\u001b[0minput_x\u001b[0m\u001b[0;34m:\u001b[0m \u001b[0minput_data\u001b[0m\u001b[0;34m,\u001b[0m \u001b[0mlabel_y\u001b[0m\u001b[0;34m:\u001b[0m \u001b[0mtarget_data\u001b[0m\u001b[0;34m}\u001b[0m\u001b[0;34m)\u001b[0m\u001b[0;34m;\u001b[0m\u001b[0;34m\u001b[0m\u001b[0m\n\u001b[1;32m      5\u001b[0m \u001b[0;32mfor\u001b[0m \u001b[0mdigit\u001b[0m \u001b[0;32min\u001b[0m \u001b[0mrange\u001b[0m\u001b[0;34m(\u001b[0m\u001b[0;36m0\u001b[0m\u001b[0;34m,\u001b[0m\u001b[0;36m10\u001b[0m\u001b[0;34m)\u001b[0m\u001b[0;34m:\u001b[0m\u001b[0;34m\u001b[0m\u001b[0m\n",
      "\u001b[0;32m<ipython-input-84-1acd79627b41>\u001b[0m in \u001b[0;36m<listcomp>\u001b[0;34m(.0)\u001b[0m\n\u001b[0;32m----> 1\u001b[0;31m \u001b[0minput_data\u001b[0m \u001b[0;34m=\u001b[0m \u001b[0mnp\u001b[0m\u001b[0;34m.\u001b[0m\u001b[0marray\u001b[0m\u001b[0;34m(\u001b[0m \u001b[0;34m[\u001b[0m \u001b[0maddnoise\u001b[0m\u001b[0;34m(\u001b[0m \u001b[0mimage2bits\u001b[0m\u001b[0;34m(\u001b[0m \u001b[0mimage\u001b[0m\u001b[0;34m[\u001b[0m\u001b[0mdigit\u001b[0m\u001b[0;34m]\u001b[0m \u001b[0;34m)\u001b[0m\u001b[0;34m,\u001b[0m \u001b[0;36m0.10\u001b[0m \u001b[0;34m)\u001b[0m \u001b[0;32mfor\u001b[0m \u001b[0mdigit\u001b[0m \u001b[0;32min\u001b[0m \u001b[0mrange\u001b[0m\u001b[0;34m(\u001b[0m\u001b[0;36m0\u001b[0m\u001b[0;34m,\u001b[0m\u001b[0;36m10\u001b[0m\u001b[0;34m)\u001b[0m \u001b[0;34m]\u001b[0m \u001b[0;34m)\u001b[0m\u001b[0;34m;\u001b[0m\u001b[0;34m\u001b[0m\u001b[0m\n\u001b[0m\u001b[1;32m      2\u001b[0m \u001b[0moutput_data\u001b[0m \u001b[0;34m=\u001b[0m \u001b[0mnp\u001b[0m\u001b[0;34m.\u001b[0m\u001b[0marray\u001b[0m\u001b[0;34m(\u001b[0m \u001b[0;34m[\u001b[0m \u001b[0monehot\u001b[0m\u001b[0;34m(\u001b[0m\u001b[0mdigit\u001b[0m\u001b[0;34m,\u001b[0m\u001b[0;36m10\u001b[0m\u001b[0;34m)\u001b[0m \u001b[0;32mfor\u001b[0m \u001b[0mdigit\u001b[0m \u001b[0;32min\u001b[0m \u001b[0mrange\u001b[0m\u001b[0;34m(\u001b[0m\u001b[0;36m0\u001b[0m\u001b[0;34m,\u001b[0m\u001b[0;36m10\u001b[0m\u001b[0;34m)\u001b[0m\u001b[0;34m]\u001b[0m \u001b[0;34m)\u001b[0m\u001b[0;34m;\u001b[0m\u001b[0;34m\u001b[0m\u001b[0m\n\u001b[1;32m      3\u001b[0m \u001b[0mprint\u001b[0m\u001b[0;34m(\u001b[0m\u001b[0moutput_data\u001b[0m\u001b[0;34m)\u001b[0m\u001b[0;34m\u001b[0m\u001b[0m\n\u001b[1;32m      4\u001b[0m \u001b[0moutputs\u001b[0m \u001b[0;34m=\u001b[0m \u001b[0msess\u001b[0m\u001b[0;34m.\u001b[0m\u001b[0mrun\u001b[0m\u001b[0;34m(\u001b[0m \u001b[0my_pred\u001b[0m\u001b[0;34m,\u001b[0m \u001b[0mfeed_dict\u001b[0m\u001b[0;34m=\u001b[0m\u001b[0;34m{\u001b[0m\u001b[0minput_x\u001b[0m\u001b[0;34m:\u001b[0m \u001b[0minput_data\u001b[0m\u001b[0;34m,\u001b[0m \u001b[0mlabel_y\u001b[0m\u001b[0;34m:\u001b[0m \u001b[0mtarget_data\u001b[0m\u001b[0;34m}\u001b[0m\u001b[0;34m)\u001b[0m\u001b[0;34m;\u001b[0m\u001b[0;34m\u001b[0m\u001b[0m\n\u001b[1;32m      5\u001b[0m \u001b[0;32mfor\u001b[0m \u001b[0mdigit\u001b[0m \u001b[0;32min\u001b[0m \u001b[0mrange\u001b[0m\u001b[0;34m(\u001b[0m\u001b[0;36m0\u001b[0m\u001b[0;34m,\u001b[0m\u001b[0;36m10\u001b[0m\u001b[0;34m)\u001b[0m\u001b[0;34m:\u001b[0m\u001b[0;34m\u001b[0m\u001b[0m\n",
      "\u001b[0;32m<ipython-input-5-39911edcc208>\u001b[0m in \u001b[0;36mimage2bits\u001b[0;34m(image)\u001b[0m\n\u001b[1;32m      1\u001b[0m \u001b[0;32mdef\u001b[0m \u001b[0mimage2bits\u001b[0m\u001b[0;34m(\u001b[0m \u001b[0mimage\u001b[0m \u001b[0;34m)\u001b[0m\u001b[0;34m:\u001b[0m\u001b[0;34m\u001b[0m\u001b[0m\n\u001b[1;32m      2\u001b[0m     \u001b[0;34m\"convert image to bits by coding X as 1 and blank as 0; ignore newlines\"\u001b[0m\u001b[0;34m\u001b[0m\u001b[0m\n\u001b[0;32m----> 3\u001b[0;31m     \u001b[0;32mreturn\u001b[0m \u001b[0;34m[\u001b[0m \u001b[0mint\u001b[0m\u001b[0;34m(\u001b[0m\u001b[0mc\u001b[0m\u001b[0;34m==\u001b[0m\u001b[0;34m'X'\u001b[0m\u001b[0;34m)\u001b[0m \u001b[0;32mfor\u001b[0m \u001b[0mc\u001b[0m \u001b[0;32min\u001b[0m \u001b[0mimage\u001b[0m \u001b[0;32mif\u001b[0m \u001b[0mc\u001b[0m\u001b[0;34m!=\u001b[0m\u001b[0;34m'\\n'\u001b[0m \u001b[0;34m]\u001b[0m\u001b[0;34m;\u001b[0m\u001b[0;34m\u001b[0m\u001b[0m\n\u001b[0m",
      "\u001b[0;31mTypeError\u001b[0m: 'int' object is not iterable"
     ]
    }
   ],
   "source": [
    "input_data = np.array( [ addnoise( image2bits( image[digit] ), 0.10 ) for digit in range(0,10) ] );\n",
    "output_data = np.array( [ onehot(digit,10) for digit in range(0,10)] );\n",
    "print(output_data)\n",
    "outputs = sess.run( y_pred, feed_dict={input_x: input_data, label_y: target_data});\n",
    "for digit in range(0,10):\n",
    "    print (bits2image( input_data[digit] ));\n",
    "    print ([ \"%3.1f\" % o for o in outputs[digit] ]);\n",
    "    o = outputs[digit].tolist();\n",
    "    print (\"Prediction: %d\" % (o.index(max(o))))\n",
    "    print;\n",
    "    print (80*\"-\");"
   ]
  },
  {
   "cell_type": "code",
   "execution_count": 41,
   "metadata": {},
   "outputs": [],
   "source": [
    "selected_idx = [7, 2, 4, 7, 6, 0, 7, 6, 9, 5, 4, 1, 1, 1, 3, 8, 5, 5, 9, 3]"
   ]
  },
  {
   "cell_type": "code",
   "execution_count": 83,
   "metadata": {},
   "outputs": [
    {
     "ename": "TypeError",
     "evalue": "'int' object is not iterable",
     "output_type": "error",
     "traceback": [
      "\u001b[0;31m---------------------------------------------------------------------------\u001b[0m",
      "\u001b[0;31mTypeError\u001b[0m                                 Traceback (most recent call last)",
      "\u001b[0;32m<ipython-input-83-9a82a2b6f763>\u001b[0m in \u001b[0;36m<module>\u001b[0;34m()\u001b[0m\n\u001b[0;32m----> 1\u001b[0;31m \u001b[0minput_data\u001b[0m \u001b[0;34m=\u001b[0m \u001b[0mnp\u001b[0m\u001b[0;34m.\u001b[0m\u001b[0marray\u001b[0m\u001b[0;34m(\u001b[0m \u001b[0;34m[\u001b[0m \u001b[0maddnoise\u001b[0m\u001b[0;34m(\u001b[0m \u001b[0mimage2bits\u001b[0m\u001b[0;34m(\u001b[0m \u001b[0mimage\u001b[0m\u001b[0;34m[\u001b[0m\u001b[0mdigit\u001b[0m\u001b[0;34m]\u001b[0m \u001b[0;34m)\u001b[0m\u001b[0;34m,\u001b[0m \u001b[0;36m0.10\u001b[0m \u001b[0;34m)\u001b[0m \u001b[0;32mfor\u001b[0m \u001b[0mdigit\u001b[0m \u001b[0;32min\u001b[0m \u001b[0mrange\u001b[0m\u001b[0;34m(\u001b[0m\u001b[0;36m0\u001b[0m\u001b[0;34m,\u001b[0m\u001b[0;36m10\u001b[0m\u001b[0;34m)\u001b[0m \u001b[0;34m]\u001b[0m \u001b[0;34m)\u001b[0m\u001b[0;34m;\u001b[0m\u001b[0;34m\u001b[0m\u001b[0m\n\u001b[0m\u001b[1;32m      2\u001b[0m \u001b[0mprint\u001b[0m\u001b[0;34m(\u001b[0m\u001b[0minput_data\u001b[0m\u001b[0;34m)\u001b[0m\u001b[0;34m\u001b[0m\u001b[0m\n\u001b[1;32m      3\u001b[0m \u001b[0moutput_data\u001b[0m \u001b[0;34m=\u001b[0m \u001b[0mnp\u001b[0m\u001b[0;34m.\u001b[0m\u001b[0marray\u001b[0m\u001b[0;34m(\u001b[0m \u001b[0;34m[\u001b[0m \u001b[0monehot\u001b[0m\u001b[0;34m(\u001b[0m\u001b[0mdigit\u001b[0m\u001b[0;34m,\u001b[0m\u001b[0;36m10\u001b[0m\u001b[0;34m)\u001b[0m \u001b[0;32mfor\u001b[0m \u001b[0mdigit\u001b[0m \u001b[0;32min\u001b[0m \u001b[0mrange\u001b[0m\u001b[0;34m(\u001b[0m\u001b[0;36m0\u001b[0m\u001b[0;34m,\u001b[0m\u001b[0;36m10\u001b[0m\u001b[0;34m)\u001b[0m\u001b[0;34m]\u001b[0m \u001b[0;34m)\u001b[0m\u001b[0;34m;\u001b[0m\u001b[0;34m\u001b[0m\u001b[0m\n\u001b[1;32m      4\u001b[0m \u001b[0mprint\u001b[0m\u001b[0;34m(\u001b[0m\u001b[0moutput_data\u001b[0m\u001b[0;34m)\u001b[0m\u001b[0;34m\u001b[0m\u001b[0m\n\u001b[1;32m      5\u001b[0m \u001b[0moutputs\u001b[0m \u001b[0;34m=\u001b[0m \u001b[0msess\u001b[0m\u001b[0;34m.\u001b[0m\u001b[0mrun\u001b[0m\u001b[0;34m(\u001b[0m \u001b[0my_pred\u001b[0m\u001b[0;34m,\u001b[0m \u001b[0mfeed_dict\u001b[0m\u001b[0;34m=\u001b[0m\u001b[0;34m{\u001b[0m\u001b[0minput_x\u001b[0m\u001b[0;34m:\u001b[0m \u001b[0minput_data\u001b[0m\u001b[0;34m,\u001b[0m \u001b[0mlabel_y\u001b[0m\u001b[0;34m:\u001b[0m \u001b[0mtarget_data\u001b[0m\u001b[0;34m}\u001b[0m\u001b[0;34m)\u001b[0m\u001b[0;34m;\u001b[0m\u001b[0;34m\u001b[0m\u001b[0m\n",
      "\u001b[0;32m<ipython-input-83-9a82a2b6f763>\u001b[0m in \u001b[0;36m<listcomp>\u001b[0;34m(.0)\u001b[0m\n\u001b[0;32m----> 1\u001b[0;31m \u001b[0minput_data\u001b[0m \u001b[0;34m=\u001b[0m \u001b[0mnp\u001b[0m\u001b[0;34m.\u001b[0m\u001b[0marray\u001b[0m\u001b[0;34m(\u001b[0m \u001b[0;34m[\u001b[0m \u001b[0maddnoise\u001b[0m\u001b[0;34m(\u001b[0m \u001b[0mimage2bits\u001b[0m\u001b[0;34m(\u001b[0m \u001b[0mimage\u001b[0m\u001b[0;34m[\u001b[0m\u001b[0mdigit\u001b[0m\u001b[0;34m]\u001b[0m \u001b[0;34m)\u001b[0m\u001b[0;34m,\u001b[0m \u001b[0;36m0.10\u001b[0m \u001b[0;34m)\u001b[0m \u001b[0;32mfor\u001b[0m \u001b[0mdigit\u001b[0m \u001b[0;32min\u001b[0m \u001b[0mrange\u001b[0m\u001b[0;34m(\u001b[0m\u001b[0;36m0\u001b[0m\u001b[0;34m,\u001b[0m\u001b[0;36m10\u001b[0m\u001b[0;34m)\u001b[0m \u001b[0;34m]\u001b[0m \u001b[0;34m)\u001b[0m\u001b[0;34m;\u001b[0m\u001b[0;34m\u001b[0m\u001b[0m\n\u001b[0m\u001b[1;32m      2\u001b[0m \u001b[0mprint\u001b[0m\u001b[0;34m(\u001b[0m\u001b[0minput_data\u001b[0m\u001b[0;34m)\u001b[0m\u001b[0;34m\u001b[0m\u001b[0m\n\u001b[1;32m      3\u001b[0m \u001b[0moutput_data\u001b[0m \u001b[0;34m=\u001b[0m \u001b[0mnp\u001b[0m\u001b[0;34m.\u001b[0m\u001b[0marray\u001b[0m\u001b[0;34m(\u001b[0m \u001b[0;34m[\u001b[0m \u001b[0monehot\u001b[0m\u001b[0;34m(\u001b[0m\u001b[0mdigit\u001b[0m\u001b[0;34m,\u001b[0m\u001b[0;36m10\u001b[0m\u001b[0;34m)\u001b[0m \u001b[0;32mfor\u001b[0m \u001b[0mdigit\u001b[0m \u001b[0;32min\u001b[0m \u001b[0mrange\u001b[0m\u001b[0;34m(\u001b[0m\u001b[0;36m0\u001b[0m\u001b[0;34m,\u001b[0m\u001b[0;36m10\u001b[0m\u001b[0;34m)\u001b[0m\u001b[0;34m]\u001b[0m \u001b[0;34m)\u001b[0m\u001b[0;34m;\u001b[0m\u001b[0;34m\u001b[0m\u001b[0m\n\u001b[1;32m      4\u001b[0m \u001b[0mprint\u001b[0m\u001b[0;34m(\u001b[0m\u001b[0moutput_data\u001b[0m\u001b[0;34m)\u001b[0m\u001b[0;34m\u001b[0m\u001b[0m\n\u001b[1;32m      5\u001b[0m \u001b[0moutputs\u001b[0m \u001b[0;34m=\u001b[0m \u001b[0msess\u001b[0m\u001b[0;34m.\u001b[0m\u001b[0mrun\u001b[0m\u001b[0;34m(\u001b[0m \u001b[0my_pred\u001b[0m\u001b[0;34m,\u001b[0m \u001b[0mfeed_dict\u001b[0m\u001b[0;34m=\u001b[0m\u001b[0;34m{\u001b[0m\u001b[0minput_x\u001b[0m\u001b[0;34m:\u001b[0m \u001b[0minput_data\u001b[0m\u001b[0;34m,\u001b[0m \u001b[0mlabel_y\u001b[0m\u001b[0;34m:\u001b[0m \u001b[0mtarget_data\u001b[0m\u001b[0;34m}\u001b[0m\u001b[0;34m)\u001b[0m\u001b[0;34m;\u001b[0m\u001b[0;34m\u001b[0m\u001b[0m\n",
      "\u001b[0;32m<ipython-input-5-39911edcc208>\u001b[0m in \u001b[0;36mimage2bits\u001b[0;34m(image)\u001b[0m\n\u001b[1;32m      1\u001b[0m \u001b[0;32mdef\u001b[0m \u001b[0mimage2bits\u001b[0m\u001b[0;34m(\u001b[0m \u001b[0mimage\u001b[0m \u001b[0;34m)\u001b[0m\u001b[0;34m:\u001b[0m\u001b[0;34m\u001b[0m\u001b[0m\n\u001b[1;32m      2\u001b[0m     \u001b[0;34m\"convert image to bits by coding X as 1 and blank as 0; ignore newlines\"\u001b[0m\u001b[0;34m\u001b[0m\u001b[0m\n\u001b[0;32m----> 3\u001b[0;31m     \u001b[0;32mreturn\u001b[0m \u001b[0;34m[\u001b[0m \u001b[0mint\u001b[0m\u001b[0;34m(\u001b[0m\u001b[0mc\u001b[0m\u001b[0;34m==\u001b[0m\u001b[0;34m'X'\u001b[0m\u001b[0;34m)\u001b[0m \u001b[0;32mfor\u001b[0m \u001b[0mc\u001b[0m \u001b[0;32min\u001b[0m \u001b[0mimage\u001b[0m \u001b[0;32mif\u001b[0m \u001b[0mc\u001b[0m\u001b[0;34m!=\u001b[0m\u001b[0;34m'\\n'\u001b[0m \u001b[0;34m]\u001b[0m\u001b[0;34m;\u001b[0m\u001b[0;34m\u001b[0m\u001b[0m\n\u001b[0m",
      "\u001b[0;31mTypeError\u001b[0m: 'int' object is not iterable"
     ]
    }
   ],
   "source": [
    "input_data = np.array( [ addnoise( image2bits( image[digit] ), 0.10 ) for digit in range(0,10) ] );\n",
    "print(input_data)\n",
    "output_data = np.array( [ onehot(digit,10) for digit in range(0,10)] );\n",
    "print(output_data)\n",
    "outputs = sess.run( y_pred, feed_dict={input_x: input_data, label_y: target_data});\n",
    "for digit in range(0,10):\n",
    "    print (bits2image( input_data[digit] ));\n",
    "    print ([ \"%3.1f\" % o for o in outputs[digit] ]);\n",
    "    o = outputs[digit].tolist();\n",
    "    print (\"Prediction: %d\" % (o.index(max(o))))\n",
    "    print;\n",
    "    print (80*\"-\");"
   ]
  },
  {
   "cell_type": "code",
   "execution_count": 51,
   "metadata": {},
   "outputs": [
    {
     "name": "stdout",
     "output_type": "stream",
     "text": [
      " XXX \n",
      "X   X\n",
      "X   X\n",
      "X   X\n",
      " XXX \n",
      "\n",
      "  X  \n",
      " XX  \n",
      "  X  \n",
      "  X  \n",
      " XXX \n",
      "\n",
      " XXX \n",
      "    X\n",
      "   X \n",
      "  X  \n",
      "XXXXX\n",
      "\n",
      " XXX \n",
      "    X\n",
      " XXX \n",
      "    X\n",
      " XXX \n",
      "\n",
      "   X \n",
      "  XX \n",
      " X X \n",
      "XXXXX\n",
      "   X \n",
      "\n",
      "XXXXX\n",
      "X    \n",
      "XXXX \n",
      "    X\n",
      "XXXX \n",
      "\n",
      " XXX \n",
      "X    \n",
      "XXXX \n",
      "X   X\n",
      " XXX \n",
      "\n"
     ]
    }
   ],
   "source": [
    "noise_levels = [0.0, 0.05, 0.10, 0.15, 0.20, 0.25, 0.30]\n",
    "selected_idx = [[2, 3, 7, 2, 7, 9, 9, 5, 4, 0, 5, 2, 9, 1, 8, 4, 9, 9, 2, 7],\n",
    "                [7, 2, 4, 7, 6, 0, 7, 6, 9, 5, 4, 1, 1, 1, 3, 8, 5, 5, 9, 3],\n",
    "                [5, 7, 9, 4, 6, 1, 7, 6, 5, 6, 9, 1, 7, 3, 8, 1, 4, 7, 4, 7],\n",
    "                [2, 6, 7, 2, 2, 6, 5, 6, 5, 1, 0, 0, 9, 3, 6, 6, 6, 2, 9, 6],\n",
    "                [5, 5, 5, 0, 4, 9, 9, 7, 0, 8, 4, 1, 2, 9, 1, 9, 9, 6, 5, 8],\n",
    "                [2, 3, 6, 8, 4, 7, 6, 3, 4, 2, 4, 1, 3, 0, 1, 0, 0, 6, 5, 5],\n",
    "                [4, 9, 6, 3, 0, 6, 8, 7, 8, 1, 9, 8, 1, 8, 0, 7, 6, 6, 1, 5]]\n",
    "\n",
    "correct_labels = []\n",
    "correct_labels_list = []\n",
    "for noise in noise_levels:\n",
    "    for i in range(0, 20):\n",
    "        difficulty = noise;\n",
    "        correct_answer = random.randrange(0,10);\n",
    "        correct_labels.append(correct_answer)\n",
    "        #print (bits2image( addnoise( image2bits( image[correct_answer] ), difficulty/100.0) ));\n",
    "        #print (\" \")\n",
    "    correct_labels_list.append(correct_labels)\n",
    "    \n",
    "# TODO do we feed the input_data and target_data with the indices from above into feed_dict?\n",
    "    \n",
    "test_accuracy_list = []\n",
    "for i, noise in enumerate(noise_levels):\n",
    "    #input_data = np.array( [ addnoise( image2bits( image[digit] ), noise ) for digit in range(0,10) ] );\n",
    "    print(image[i])\n",
    "    input_data = np.array( [ addnoise( image2bits( image[digit] ), noise ) for digit in selected_idx[i] ] );\n",
    "    #print(input_data)\n",
    "    \n",
    "    target_data = target_data[selected_idx[i]]\n",
    "    #output_data = np.array( [ onehot(digit,10) for digit in range(0,10)] );\n",
    "\n",
    "    outputs = sess.run( y_pred, feed_dict={input_x: input_data, label_y: target_data});\n",
    "    predicted_correct = 0\n",
    "    for digit in selected_idx[i]:\n",
    "        o = outputs[digit].tolist();\n",
    "        \n",
    "        if o.index(max(o)) == np.where(target_data[digit]==1)[0]:\n",
    "            predicted_correct += 1\n",
    "            #print (\"Correct\")\n",
    "    #print(selected_idx[i])\n",
    "    test_accuracy = (predicted_correct/(len(selected_idx[i])))*100\n",
    "    #print(\"Noise Level: {} Accuracy: {}\".format(noise, accuracy))\n",
    "    test_accuracy_list.append(test_accuracy)"
   ]
  },
  {
   "cell_type": "code",
   "execution_count": 58,
   "metadata": {},
   "outputs": [
    {
     "data": {
      "text/plain": [
       "array([[1, 1, 1, ..., 1, 1, 0],\n",
       "       [0, 0, 0, ..., 0, 1, 0],\n",
       "       [0, 1, 1, ..., 1, 1, 1],\n",
       "       ..., \n",
       "       [0, 1, 0, ..., 0, 1, 1],\n",
       "       [0, 0, 1, ..., 0, 1, 1],\n",
       "       [0, 0, 0, ..., 0, 1, 0]])"
      ]
     },
     "execution_count": 58,
     "metadata": {},
     "output_type": "execute_result"
    }
   ],
   "source": [
    "import random\n",
    "\n",
    "noise_levels = [0.0, 0.05, 0.10, 0.15, 0.20, 0.25, 0.30]\n",
    "correct_labels_list = []\n",
    "test_input_data = []\n",
    "for i, noise in enumerate(noise_levels):\n",
    "    correct_labels=[random.randrange(0,10) for _ in range (20)]\n",
    "    correct_labels_list.append(correct_labels)\n",
    "    test_data = [ addnoise( image2bits( image[digit] ), noise ) for digit in correct_labels] ;\n",
    "    test_input_data.append(test_data)\n",
    "np.vstack(test_input_data)"
   ]
  },
  {
   "cell_type": "code",
   "execution_count": 59,
   "metadata": {},
   "outputs": [
    {
     "data": {
      "text/plain": [
       "[[5, 4, 2, 7, 8, 0, 2, 8, 5, 3, 8, 9, 7, 9, 1, 0, 6, 7, 4, 1],\n",
       " [8, 7, 9, 5, 6, 9, 6, 9, 3, 2, 3, 7, 6, 6, 6, 7, 0, 0, 8, 8],\n",
       " [4, 1, 6, 9, 0, 1, 2, 2, 4, 2, 3, 4, 2, 3, 8, 6, 1, 6, 1, 1],\n",
       " [6, 3, 5, 9, 8, 4, 4, 2, 7, 6, 4, 2, 6, 4, 9, 6, 5, 2, 0, 5],\n",
       " [0, 8, 6, 8, 9, 4, 2, 4, 5, 7, 7, 6, 4, 3, 2, 1, 2, 2, 1, 7],\n",
       " [0, 5, 3, 3, 3, 5, 1, 5, 4, 8, 5, 2, 5, 9, 7, 8, 5, 7, 1, 4],\n",
       " [4, 5, 1, 7, 1, 3, 1, 9, 8, 6, 4, 9, 3, 1, 8, 5, 6, 2, 1, 4]]"
      ]
     },
     "execution_count": 59,
     "metadata": {},
     "output_type": "execute_result"
    }
   ],
   "source": [
    "correct_labels_list"
   ]
  },
  {
   "cell_type": "code",
   "execution_count": 60,
   "metadata": {},
   "outputs": [
    {
     "data": {
      "text/plain": [
       "[[[1, 1, 1, 1, 1, 1, 0, 0, 0, 0, 1, 1, 1, 1, 0, 0, 0, 0, 0, 1, 1, 1, 1, 1, 0],\n",
       "  [0, 0, 0, 1, 0, 0, 0, 1, 1, 0, 0, 1, 0, 1, 0, 1, 1, 1, 1, 1, 0, 0, 0, 1, 0],\n",
       "  [0, 1, 1, 1, 0, 0, 0, 0, 0, 1, 0, 0, 0, 1, 0, 0, 0, 1, 0, 0, 1, 1, 1, 1, 1],\n",
       "  [1, 1, 1, 1, 1, 0, 0, 0, 1, 0, 0, 0, 1, 0, 0, 0, 1, 0, 0, 0, 1, 0, 0, 0, 0],\n",
       "  [0, 1, 1, 1, 0, 1, 0, 0, 0, 1, 0, 1, 1, 1, 0, 1, 0, 0, 0, 1, 0, 1, 1, 1, 0],\n",
       "  [0, 1, 1, 1, 0, 1, 0, 0, 0, 1, 1, 0, 0, 0, 1, 1, 0, 0, 0, 1, 0, 1, 1, 1, 0],\n",
       "  [0, 1, 1, 1, 0, 0, 0, 0, 0, 1, 0, 0, 0, 1, 0, 0, 0, 1, 0, 0, 1, 1, 1, 1, 1],\n",
       "  [0, 1, 1, 1, 0, 1, 0, 0, 0, 1, 0, 1, 1, 1, 0, 1, 0, 0, 0, 1, 0, 1, 1, 1, 0],\n",
       "  [1, 1, 1, 1, 1, 1, 0, 0, 0, 0, 1, 1, 1, 1, 0, 0, 0, 0, 0, 1, 1, 1, 1, 1, 0],\n",
       "  [0, 1, 1, 1, 0, 0, 0, 0, 0, 1, 0, 1, 1, 1, 0, 0, 0, 0, 0, 1, 0, 1, 1, 1, 0],\n",
       "  [0, 1, 1, 1, 0, 1, 0, 0, 0, 1, 0, 1, 1, 1, 0, 1, 0, 0, 0, 1, 0, 1, 1, 1, 0],\n",
       "  [0, 1, 1, 1, 0, 1, 0, 0, 0, 1, 0, 1, 1, 1, 1, 0, 0, 0, 0, 1, 0, 1, 1, 1, 0],\n",
       "  [1, 1, 1, 1, 1, 0, 0, 0, 1, 0, 0, 0, 1, 0, 0, 0, 1, 0, 0, 0, 1, 0, 0, 0, 0],\n",
       "  [0, 1, 1, 1, 0, 1, 0, 0, 0, 1, 0, 1, 1, 1, 1, 0, 0, 0, 0, 1, 0, 1, 1, 1, 0],\n",
       "  [0, 0, 1, 0, 0, 0, 1, 1, 0, 0, 0, 0, 1, 0, 0, 0, 0, 1, 0, 0, 0, 1, 1, 1, 0],\n",
       "  [0, 1, 1, 1, 0, 1, 0, 0, 0, 1, 1, 0, 0, 0, 1, 1, 0, 0, 0, 1, 0, 1, 1, 1, 0],\n",
       "  [0, 1, 1, 1, 0, 1, 0, 0, 0, 0, 1, 1, 1, 1, 0, 1, 0, 0, 0, 1, 0, 1, 1, 1, 0],\n",
       "  [1, 1, 1, 1, 1, 0, 0, 0, 1, 0, 0, 0, 1, 0, 0, 0, 1, 0, 0, 0, 1, 0, 0, 0, 0],\n",
       "  [0, 0, 0, 1, 0, 0, 0, 1, 1, 0, 0, 1, 0, 1, 0, 1, 1, 1, 1, 1, 0, 0, 0, 1, 0],\n",
       "  [0, 0, 1, 0, 0, 0, 1, 1, 0, 0, 0, 0, 1, 0, 0, 0, 0, 1, 0, 0, 0, 1, 1, 1, 0]],\n",
       " [[0, 1, 1, 1, 0, 1, 0, 0, 0, 1, 0, 1, 1, 1, 0, 1, 0, 0, 0, 1, 0, 1, 1, 1, 0],\n",
       "  [1, 1, 1, 1, 1, 0, 0, 0, 1, 0, 0, 0, 1, 0, 0, 0, 1, 0, 0, 0, 1, 0, 0, 0, 0],\n",
       "  [0, 1, 1, 1, 0, 1, 0, 0, 0, 1, 1, 1, 1, 1, 1, 0, 0, 0, 0, 1, 0, 1, 1, 1, 0],\n",
       "  [1, 1, 1, 1, 1, 1, 0, 0, 0, 0, 1, 1, 1, 1, 0, 0, 0, 0, 0, 1, 1, 0, 1, 1, 0],\n",
       "  [0, 1, 1, 1, 0, 1, 0, 0, 0, 0, 1, 1, 1, 1, 0, 1, 0, 0, 0, 1, 0, 1, 1, 1, 0],\n",
       "  [1, 1, 1, 1, 0, 1, 0, 0, 0, 1, 0, 1, 1, 1, 1, 1, 0, 0, 0, 1, 0, 0, 1, 1, 0],\n",
       "  [0, 1, 1, 1, 0, 0, 0, 0, 0, 0, 1, 1, 1, 1, 0, 1, 0, 0, 0, 1, 0, 1, 1, 1, 0],\n",
       "  [0, 1, 1, 1, 0, 1, 0, 0, 0, 1, 0, 1, 1, 1, 1, 0, 0, 0, 0, 1, 0, 1, 1, 1, 0],\n",
       "  [0, 1, 1, 1, 0, 0, 0, 1, 0, 1, 0, 1, 0, 1, 1, 0, 0, 0, 0, 1, 1, 1, 1, 1, 0],\n",
       "  [0, 1, 1, 1, 0, 0, 0, 1, 0, 1, 0, 0, 0, 1, 1, 0, 0, 1, 0, 0, 1, 1, 1, 1, 1],\n",
       "  [0, 1, 1, 0, 0, 0, 0, 0, 0, 1, 0, 1, 1, 1, 0, 0, 0, 0, 0, 1, 0, 1, 1, 1, 1],\n",
       "  [1, 1, 1, 1, 1, 0, 0, 0, 1, 1, 0, 0, 1, 0, 0, 0, 1, 0, 0, 0, 1, 0, 0, 0, 0],\n",
       "  [0, 1, 1, 1, 0, 1, 0, 0, 0, 0, 0, 1, 1, 1, 0, 1, 0, 0, 0, 1, 0, 1, 1, 1, 0],\n",
       "  [0, 1, 1, 1, 0, 1, 0, 0, 0, 0, 1, 1, 1, 1, 0, 1, 0, 0, 1, 1, 0, 1, 1, 1, 0],\n",
       "  [0, 1, 1, 1, 0, 1, 0, 0, 1, 0, 1, 1, 1, 0, 0, 1, 0, 0, 0, 1, 0, 0, 1, 1, 0],\n",
       "  [1, 1, 1, 1, 1, 0, 0, 0, 1, 0, 0, 0, 1, 0, 0, 0, 1, 0, 0, 0, 1, 0, 0, 0, 0],\n",
       "  [0, 1, 1, 1, 0, 1, 0, 0, 0, 1, 1, 0, 0, 0, 0, 1, 0, 0, 0, 1, 0, 1, 1, 1, 0],\n",
       "  [0, 1, 1, 1, 0, 1, 0, 0, 0, 1, 1, 1, 0, 0, 1, 1, 0, 0, 0, 1, 0, 1, 1, 1, 0],\n",
       "  [0, 1, 1, 1, 0, 1, 0, 0, 0, 1, 0, 1, 1, 1, 0, 1, 0, 0, 0, 1, 0, 1, 1, 1, 0],\n",
       "  [0, 0, 1, 1, 0, 1, 0, 0, 0, 1, 0, 1, 1, 1, 0, 0, 0, 0, 0, 1, 0, 1, 1, 1, 1]],\n",
       " [[0, 0, 0, 1, 0, 0, 0, 0, 1, 0, 0, 0, 1, 1, 0, 1, 1, 0, 1, 1, 0, 0, 0, 1, 0],\n",
       "  [0, 0, 1, 1, 0, 0, 1, 0, 0, 0, 0, 0, 1, 0, 0, 0, 0, 1, 0, 0, 1, 1, 1, 1, 0],\n",
       "  [0, 1, 1, 1, 0, 1, 1, 0, 0, 0, 0, 1, 1, 1, 0, 1, 0, 0, 0, 1, 0, 1, 1, 1, 0],\n",
       "  [0, 1, 0, 1, 0, 1, 1, 0, 1, 1, 0, 1, 1, 1, 1, 0, 0, 0, 0, 1, 0, 1, 0, 1, 0],\n",
       "  [0, 1, 1, 1, 1, 1, 0, 0, 0, 1, 1, 0, 0, 0, 1, 1, 0, 0, 0, 1, 0, 1, 1, 1, 0],\n",
       "  [0, 0, 0, 0, 0, 0, 1, 1, 0, 0, 0, 0, 1, 0, 0, 0, 0, 1, 0, 0, 0, 1, 1, 1, 0],\n",
       "  [0, 1, 1, 1, 0, 0, 0, 0, 0, 1, 0, 0, 0, 1, 0, 0, 0, 1, 0, 0, 1, 1, 1, 1, 1],\n",
       "  [0, 1, 1, 1, 1, 0, 0, 0, 0, 1, 0, 0, 0, 1, 1, 1, 0, 1, 0, 1, 1, 1, 1, 1, 1],\n",
       "  [0, 0, 0, 1, 0, 0, 0, 1, 1, 1, 0, 1, 0, 1, 0, 0, 1, 1, 1, 1, 1, 0, 0, 1, 0],\n",
       "  [0, 0, 1, 1, 0, 0, 0, 0, 0, 1, 0, 0, 0, 1, 0, 0, 1, 1, 0, 0, 1, 1, 1, 1, 1],\n",
       "  [1, 0, 1, 1, 0, 0, 0, 0, 0, 1, 0, 1, 1, 1, 1, 0, 0, 0, 0, 0, 0, 1, 1, 1, 0],\n",
       "  [0, 0, 0, 1, 0, 0, 1, 1, 1, 0, 0, 1, 0, 1, 0, 1, 1, 1, 0, 0, 0, 0, 0, 1, 0],\n",
       "  [0, 1, 0, 1, 0, 1, 1, 0, 0, 1, 0, 0, 1, 1, 0, 0, 0, 1, 0, 0, 1, 1, 1, 1, 1],\n",
       "  [0, 1, 1, 1, 0, 0, 0, 0, 0, 1, 0, 0, 1, 1, 0, 0, 0, 0, 0, 1, 0, 1, 1, 1, 0],\n",
       "  [0, 1, 1, 1, 0, 1, 0, 0, 0, 1, 0, 1, 1, 1, 0, 0, 0, 0, 0, 1, 0, 1, 1, 1, 0],\n",
       "  [0, 1, 1, 1, 0, 1, 0, 0, 0, 0, 1, 1, 1, 1, 0, 1, 0, 0, 0, 0, 0, 1, 1, 1, 0],\n",
       "  [0, 0, 1, 0, 0, 0, 1, 1, 0, 0, 0, 0, 1, 0, 0, 0, 0, 1, 0, 0, 0, 1, 1, 1, 0],\n",
       "  [1, 1, 1, 1, 0, 1, 0, 0, 0, 0, 1, 1, 1, 1, 0, 1, 0, 0, 0, 1, 0, 1, 0, 1, 0],\n",
       "  [0, 0, 1, 0, 0, 0, 1, 1, 0, 0, 0, 0, 1, 0, 0, 0, 0, 1, 0, 0, 0, 1, 1, 1, 0],\n",
       "  [0, 0, 1, 1, 0, 0, 1, 1, 0, 0, 0, 1, 1, 0, 0, 0, 0, 1, 0, 0, 0, 1, 1, 1, 0]],\n",
       " [[0, 1, 0, 0, 0, 1, 0, 0, 0, 0, 1, 1, 1, 1, 0, 1, 1, 0, 1, 1, 0, 1, 1, 0, 0],\n",
       "  [0, 1, 1, 1, 0, 0, 0, 0, 0, 1, 0, 1, 1, 0, 0, 0, 0, 0, 0, 1, 0, 1, 1, 1, 0],\n",
       "  [1, 1, 1, 0, 1, 1, 0, 0, 0, 0, 1, 1, 1, 1, 0, 0, 0, 0, 0, 1, 0, 1, 1, 1, 0],\n",
       "  [0, 1, 1, 1, 0, 0, 0, 0, 0, 1, 0, 1, 1, 1, 1, 0, 0, 0, 0, 1, 0, 1, 1, 1, 0],\n",
       "  [0, 0, 0, 1, 0, 0, 0, 0, 0, 1, 0, 1, 1, 1, 0, 1, 1, 0, 0, 1, 0, 1, 1, 1, 1],\n",
       "  [0, 0, 1, 1, 0, 0, 0, 1, 1, 0, 0, 1, 0, 0, 1, 1, 1, 1, 0, 1, 0, 0, 0, 1, 0],\n",
       "  [0, 0, 0, 1, 0, 0, 0, 1, 1, 0, 0, 1, 0, 1, 0, 1, 1, 1, 1, 1, 1, 0, 0, 1, 0],\n",
       "  [0, 1, 1, 1, 0, 0, 0, 0, 1, 1, 0, 0, 0, 1, 0, 1, 0, 1, 0, 0, 1, 1, 1, 1, 1],\n",
       "  [1, 1, 1, 1, 1, 0, 0, 0, 1, 0, 0, 0, 1, 0, 0, 0, 0, 0, 0, 0, 1, 0, 0, 0, 1],\n",
       "  [0, 1, 1, 0, 1, 0, 0, 0, 1, 0, 1, 0, 1, 1, 0, 0, 0, 0, 0, 1, 1, 1, 1, 1, 0],\n",
       "  [0, 0, 0, 1, 0, 0, 0, 1, 1, 0, 1, 1, 0, 1, 0, 1, 1, 0, 0, 1, 1, 0, 0, 1, 0],\n",
       "  [0, 1, 0, 1, 1, 0, 0, 0, 0, 1, 0, 1, 0, 1, 0, 0, 1, 1, 0, 1, 1, 1, 1, 1, 1],\n",
       "  [0, 1, 0, 1, 0, 0, 0, 0, 1, 1, 0, 1, 1, 1, 1, 0, 0, 0, 0, 1, 0, 1, 1, 1, 0],\n",
       "  [0, 0, 0, 1, 0, 0, 0, 1, 0, 0, 0, 1, 0, 1, 0, 1, 1, 1, 0, 1, 0, 0, 0, 1, 1],\n",
       "  [0, 1, 1, 1, 1, 1, 0, 1, 0, 1, 0, 1, 1, 1, 1, 0, 0, 0, 0, 1, 1, 1, 1, 1, 0],\n",
       "  [0, 1, 1, 1, 0, 1, 0, 1, 0, 0, 1, 1, 1, 1, 0, 1, 0, 0, 0, 1, 0, 1, 1, 1, 0],\n",
       "  [1, 1, 1, 1, 1, 1, 0, 1, 0, 0, 1, 0, 1, 1, 0, 0, 1, 0, 0, 1, 1, 1, 1, 1, 1],\n",
       "  [0, 1, 1, 1, 0, 1, 0, 1, 1, 1, 1, 0, 0, 1, 0, 0, 0, 0, 0, 0, 1, 1, 0, 1, 1],\n",
       "  [1, 1, 0, 1, 0, 1, 0, 0, 0, 1, 1, 0, 0, 1, 1, 1, 0, 0, 0, 1, 0, 1, 1, 1, 0],\n",
       "  [1, 1, 1, 1, 1, 1, 0, 0, 0, 0, 1, 1, 1, 0, 0, 0, 0, 0, 0, 1, 1, 1, 1, 1, 0]],\n",
       " [[0, 1, 0, 1, 0, 1, 0, 0, 0, 1, 0, 0, 0, 0, 0, 1, 0, 0, 0, 1, 0, 1, 0, 1, 1],\n",
       "  [0, 1, 1, 1, 1, 1, 0, 1, 1, 0, 0, 0, 1, 1, 0, 1, 0, 1, 1, 1, 0, 1, 1, 1, 0],\n",
       "  [1, 1, 1, 1, 0, 0, 0, 0, 0, 1, 0, 1, 1, 1, 0, 0, 1, 0, 0, 1, 1, 1, 0, 1, 0],\n",
       "  [1, 1, 1, 1, 0, 1, 0, 0, 0, 0, 0, 0, 0, 1, 0, 1, 0, 0, 0, 1, 0, 1, 1, 0, 0],\n",
       "  [0, 1, 1, 1, 0, 1, 0, 0, 0, 0, 1, 1, 1, 1, 0, 1, 0, 1, 0, 1, 0, 0, 0, 1, 0],\n",
       "  [0, 0, 0, 1, 0, 0, 0, 0, 0, 0, 0, 1, 0, 1, 1, 1, 0, 0, 0, 1, 0, 1, 0, 1, 0],\n",
       "  [0, 0, 1, 1, 0, 0, 0, 0, 0, 0, 0, 1, 0, 1, 0, 1, 0, 1, 0, 0, 1, 1, 1, 1, 1],\n",
       "  [0, 1, 0, 1, 0, 0, 0, 1, 1, 0, 0, 0, 0, 1, 0, 0, 1, 1, 0, 1, 1, 0, 0, 1, 0],\n",
       "  [1, 0, 1, 1, 1, 0, 0, 0, 0, 0, 0, 1, 0, 1, 1, 1, 0, 1, 0, 1, 1, 0, 0, 0, 0],\n",
       "  [1, 1, 1, 1, 1, 0, 0, 0, 0, 1, 0, 0, 1, 0, 0, 0, 1, 0, 0, 0, 1, 1, 0, 0, 1],\n",
       "  [1, 1, 1, 1, 1, 0, 0, 0, 1, 0, 0, 0, 1, 1, 0, 0, 1, 0, 0, 1, 1, 0, 1, 1, 0],\n",
       "  [1, 1, 1, 0, 0, 0, 0, 1, 1, 0, 0, 1, 1, 1, 0, 0, 1, 1, 1, 1, 0, 1, 1, 1, 0],\n",
       "  [1, 0, 0, 1, 0, 0, 1, 1, 1, 0, 0, 1, 0, 1, 0, 1, 0, 0, 1, 1, 0, 0, 0, 1, 0],\n",
       "  [0, 1, 0, 1, 0, 0, 0, 0, 0, 1, 1, 0, 1, 0, 0, 1, 0, 0, 0, 1, 0, 1, 1, 1, 0],\n",
       "  [1, 1, 1, 1, 0, 0, 0, 1, 0, 1, 1, 0, 0, 1, 0, 0, 0, 1, 1, 0, 1, 1, 1, 1, 1],\n",
       "  [0, 0, 1, 0, 0, 0, 1, 0, 1, 0, 1, 1, 1, 0, 0, 0, 0, 0, 0, 0, 0, 1, 1, 0, 1],\n",
       "  [0, 1, 1, 1, 1, 0, 0, 1, 0, 1, 0, 0, 0, 0, 0, 0, 0, 1, 0, 0, 1, 1, 1, 1, 1],\n",
       "  [0, 1, 1, 1, 0, 0, 0, 0, 0, 1, 1, 1, 0, 0, 0, 0, 0, 1, 1, 0, 1, 1, 1, 1, 1],\n",
       "  [0, 0, 0, 1, 1, 0, 1, 1, 1, 0, 0, 0, 1, 0, 0, 0, 1, 1, 0, 0, 0, 1, 1, 1, 0],\n",
       "  [1, 1, 1, 1, 1, 0, 0, 0, 0, 0, 0, 0, 1, 0, 0, 0, 0, 0, 1, 1, 1, 1, 0, 1, 0]],\n",
       " [[1, 1, 1, 1, 0, 1, 0, 1, 0, 1, 1, 1, 0, 1, 1, 1, 1, 0, 1, 1, 1, 1, 1, 1, 0],\n",
       "  [1, 0, 1, 1, 1, 0, 0, 0, 0, 1, 0, 1, 0, 1, 0, 0, 0, 1, 1, 1, 1, 1, 0, 1, 0],\n",
       "  [0, 1, 1, 1, 0, 1, 1, 0, 0, 1, 1, 1, 0, 1, 1, 0, 0, 0, 0, 0, 1, 1, 0, 1, 0],\n",
       "  [1, 1, 1, 1, 0, 1, 0, 0, 0, 1, 1, 1, 0, 1, 0, 0, 0, 0, 1, 1, 0, 1, 0, 1, 0],\n",
       "  [0, 1, 1, 1, 0, 0, 0, 0, 1, 1, 0, 1, 1, 1, 0, 0, 0, 0, 0, 1, 1, 1, 0, 1, 0],\n",
       "  [0, 1, 1, 0, 1, 1, 1, 0, 0, 0, 1, 0, 1, 1, 0, 0, 1, 0, 1, 1, 0, 0, 1, 0, 1],\n",
       "  [0, 0, 1, 0, 0, 0, 1, 1, 0, 0, 1, 1, 1, 0, 0, 0, 0, 0, 0, 1, 1, 1, 0, 1, 0],\n",
       "  [1, 1, 0, 1, 1, 1, 0, 1, 0, 0, 1, 0, 1, 1, 0, 1, 0, 1, 0, 1, 1, 0, 1, 0, 0],\n",
       "  [1, 0, 0, 1, 0, 0, 1, 1, 0, 0, 0, 0, 0, 1, 0, 1, 1, 1, 1, 0, 0, 0, 0, 1, 0],\n",
       "  [1, 1, 1, 1, 0, 1, 0, 1, 0, 1, 0, 0, 1, 1, 0, 1, 0, 0, 0, 1, 0, 0, 1, 1, 1],\n",
       "  [1, 1, 0, 0, 0, 1, 1, 0, 0, 0, 1, 1, 1, 0, 0, 0, 0, 0, 0, 1, 0, 1, 1, 1, 0],\n",
       "  [0, 0, 1, 1, 0, 1, 0, 0, 0, 1, 0, 0, 0, 0, 1, 0, 0, 1, 0, 0, 1, 1, 0, 1, 1],\n",
       "  [1, 1, 0, 1, 1, 1, 0, 0, 0, 0, 1, 1, 1, 1, 1, 1, 0, 0, 0, 1, 1, 1, 1, 0, 0],\n",
       "  [0, 1, 1, 1, 0, 0, 0, 1, 0, 1, 0, 0, 1, 1, 1, 1, 0, 1, 1, 1, 0, 1, 1, 0, 0],\n",
       "  [1, 1, 1, 0, 1, 0, 0, 0, 0, 0, 0, 0, 1, 1, 0, 1, 1, 0, 0, 0, 1, 0, 0, 1, 1],\n",
       "  [0, 0, 0, 1, 0, 1, 1, 0, 0, 1, 0, 0, 1, 1, 0, 0, 0, 0, 0, 0, 0, 0, 0, 1, 0],\n",
       "  [1, 0, 1, 1, 1, 0, 0, 0, 0, 0, 0, 1, 0, 0, 0, 0, 0, 1, 0, 1, 0, 1, 1, 1, 0],\n",
       "  [1, 1, 0, 1, 0, 0, 0, 0, 1, 0, 0, 0, 1, 0, 1, 1, 0, 0, 0, 1, 0, 0, 1, 0, 0],\n",
       "  [1, 1, 1, 0, 0, 0, 0, 1, 0, 0, 0, 1, 1, 0, 0, 0, 0, 1, 0, 1, 0, 1, 0, 1, 0],\n",
       "  [1, 0, 1, 1, 0, 0, 0, 1, 1, 0, 0, 1, 0, 1, 0, 1, 1, 1, 1, 1, 0, 1, 0, 0, 0]],\n",
       " [[1, 0, 0, 0, 0, 1, 1, 0, 1, 1, 0, 1, 1, 1, 0, 0, 0, 0, 1, 0, 0, 0, 1, 0, 0],\n",
       "  [1, 0, 0, 1, 1, 1, 0, 1, 0, 0, 0, 1, 0, 1, 0, 0, 0, 1, 1, 1, 1, 1, 0, 1, 0],\n",
       "  [0, 1, 1, 1, 0, 0, 1, 1, 1, 0, 1, 0, 1, 0, 0, 1, 0, 1, 1, 0, 1, 1, 1, 0, 0],\n",
       "  [1, 1, 1, 1, 1, 1, 0, 0, 0, 1, 1, 0, 1, 0, 1, 1, 1, 1, 1, 1, 1, 0, 1, 1, 0],\n",
       "  [0, 1, 0, 0, 1, 0, 1, 1, 1, 0, 0, 0, 0, 0, 0, 1, 0, 1, 0, 1, 0, 1, 0, 1, 1],\n",
       "  [0, 1, 0, 1, 0, 0, 0, 1, 0, 1, 1, 0, 1, 0, 0, 1, 1, 0, 1, 0, 1, 1, 0, 1, 0],\n",
       "  [0, 0, 1, 0, 1, 0, 0, 1, 0, 0, 1, 1, 1, 1, 1, 0, 0, 1, 0, 1, 0, 1, 0, 1, 0],\n",
       "  [1, 0, 1, 1, 0, 1, 1, 0, 1, 1, 0, 0, 1, 1, 0, 0, 0, 0, 0, 1, 1, 0, 0, 1, 0],\n",
       "  [0, 0, 1, 1, 0, 0, 0, 0, 0, 0, 0, 1, 0, 1, 0, 1, 1, 0, 0, 1, 0, 0, 0, 1, 1],\n",
       "  [1, 0, 1, 1, 1, 1, 1, 0, 0, 0, 1, 1, 1, 1, 1, 1, 0, 1, 0, 1, 1, 1, 1, 1, 0],\n",
       "  [1, 0, 0, 1, 1, 0, 1, 1, 1, 0, 1, 1, 1, 1, 0, 0, 1, 1, 0, 1, 1, 1, 0, 1, 0],\n",
       "  [1, 1, 0, 1, 1, 1, 0, 0, 1, 0, 0, 0, 1, 1, 1, 0, 0, 1, 1, 1, 1, 1, 1, 1, 0],\n",
       "  [1, 1, 1, 1, 0, 1, 0, 0, 0, 1, 0, 0, 1, 0, 0, 1, 1, 0, 0, 1, 0, 1, 0, 1, 0],\n",
       "  [0, 0, 1, 0, 0, 0, 1, 1, 1, 0, 1, 1, 0, 0, 0, 0, 0, 1, 1, 1, 1, 1, 1, 1, 0],\n",
       "  [0, 1, 1, 1, 0, 0, 0, 0, 0, 1, 1, 1, 0, 1, 0, 1, 0, 0, 0, 1, 0, 1, 1, 1, 0],\n",
       "  [1, 1, 0, 0, 0, 1, 1, 0, 0, 0, 1, 1, 0, 1, 0, 0, 0, 0, 0, 1, 1, 1, 1, 0, 1],\n",
       "  [0, 0, 1, 1, 0, 1, 0, 1, 0, 1, 1, 1, 0, 0, 1, 1, 0, 0, 0, 0, 1, 1, 1, 1, 1],\n",
       "  [0, 1, 0, 1, 1, 0, 0, 0, 1, 1, 1, 1, 0, 1, 0, 0, 1, 0, 0, 1, 0, 1, 0, 1, 1],\n",
       "  [0, 0, 1, 0, 0, 0, 1, 1, 1, 1, 0, 1, 0, 0, 0, 0, 1, 0, 0, 0, 0, 0, 0, 1, 1],\n",
       "  [0, 0, 0, 1, 0, 0, 0, 0, 1, 0, 0, 1, 0, 1, 0, 1, 1, 1, 1, 1, 1, 0, 0, 1, 0]]]"
      ]
     },
     "execution_count": 60,
     "metadata": {},
     "output_type": "execute_result"
    }
   ],
   "source": [
    "test_input_data"
   ]
  },
  {
   "cell_type": "code",
   "execution_count": 61,
   "metadata": {},
   "outputs": [
    {
     "data": {
      "text/plain": [
       "7"
      ]
     },
     "execution_count": 61,
     "metadata": {},
     "output_type": "execute_result"
    }
   ],
   "source": [
    "len(test_input_data)"
   ]
  },
  {
   "cell_type": "code",
   "execution_count": 75,
   "metadata": {},
   "outputs": [],
   "source": [
    "count = 0\n",
    "one_hot_output_data = []\n",
    "for i, test in enumerate(test_input_data):\n",
    "    #print(test)\n",
    "    output_data = np.array( [ onehot(digit,10) for digit in correct_labels_list[i]] );\n",
    "    one_hot_output_data = np.append(one_hot_output_data, output_data)\n",
    "    for j, img in enumerate(test):\n",
    "        #print(img)\n",
    "        #print(bits2image(img))\n",
    "        count += 1"
   ]
  },
  {
   "cell_type": "code",
   "execution_count": 77,
   "metadata": {},
   "outputs": [
    {
     "name": "stdout",
     "output_type": "stream",
     "text": [
      "1400\n"
     ]
    }
   ],
   "source": [
    "print(len(one_hot_output_data))"
   ]
  },
  {
   "cell_type": "code",
   "execution_count": null,
   "metadata": {},
   "outputs": [],
   "source": []
  }
 ],
 "metadata": {
  "kernelspec": {
   "display_name": "Python 3",
   "language": "python",
   "name": "python3"
  },
  "language_info": {
   "codemirror_mode": {
    "name": "ipython",
    "version": 3
   },
   "file_extension": ".py",
   "mimetype": "text/x-python",
   "name": "python",
   "nbconvert_exporter": "python",
   "pygments_lexer": "ipython3",
   "version": "3.6.2"
  }
 },
 "nbformat": 4,
 "nbformat_minor": 2
}
